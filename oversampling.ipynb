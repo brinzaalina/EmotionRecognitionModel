{
 "cells": [
  {
   "cell_type": "code",
   "execution_count": null,
   "metadata": {
    "collapsed": true
   },
   "outputs": [],
   "source": [
    "import numpy as np\n",
    "# load the training features and labels\n",
    "training_features = np.load('models/training_features-3.npy')\n",
    "training_labels = np.load('models/training_labels-3.npy')\n",
    "\n",
    "\n",
    "# compute the class distribution of the entire training set\n",
    "training_class_distribution = np.bincount(training_labels)\n",
    "\n",
    "# compare the class distributions\n",
    "print('Class distribution of the entire training set: ', training_class_distribution)\n",
    "\n",
    "# visualize plots of the class distributions\n",
    "import matplotlib.pyplot as plt\n",
    "plt.bar(np.arange(len(training_class_distribution)), training_class_distribution, label='Training set')\n",
    "plt.legend()\n",
    "plt.show()\n"
   ]
  },
  {
   "cell_type": "markdown",
   "source": [
    "The data that have labels 2, 3, 4 and 5 especially need to be augmented. The data that have labels 0 and 1 are already well represented in the training set."
   ],
   "metadata": {
    "collapsed": false
   }
  },
  {
   "cell_type": "code",
   "execution_count": 45,
   "outputs": [],
   "source": [
    "from sklearn.utils import resample\n",
    "\n",
    "majority_class_count = np.max(training_class_distribution)\n",
    "\n",
    "upsampled_training_features = []\n",
    "upsampled_training_labels = []\n",
    "\n",
    "scaling_factor_min = 0.1\n",
    "scaling_factor_max = 0.3\n",
    "\n",
    "for label, count in enumerate(training_class_distribution):\n",
    "    scaling_factor = scaling_factor_min + (scaling_factor_max - scaling_factor_min) * ((count - 1) / (majority_class_count - 1))\n",
    "    class_indices = np.where(training_labels == label)[0]\n",
    "    desired_class_size = int(np.round((majority_class_count - 1) * scaling_factor)) + 1\n",
    "    oversampled_class_indices = resample(class_indices, replace=True, n_samples=desired_class_size, random_state=42)\n",
    "\n",
    "    upsampled_training_features.append(training_features[oversampled_class_indices])\n",
    "    upsampled_training_labels.append(training_labels[oversampled_class_indices])\n",
    "\n",
    "upsampled_training_features = np.concatenate(upsampled_training_features)\n",
    "upsampled_training_labels = np.concatenate(upsampled_training_labels)\n"
   ],
   "metadata": {
    "collapsed": false,
    "ExecuteTime": {
     "end_time": "2023-06-14T11:45:33.013958400Z",
     "start_time": "2023-06-14T11:45:32.922485600Z"
    }
   }
  },
  {
   "cell_type": "markdown",
   "source": [
    "Choose a suitable dataset for grid search"
   ],
   "metadata": {
    "collapsed": false
   }
  },
  {
   "cell_type": "code",
   "execution_count": null,
   "outputs": [],
   "source": [
    "subset_size = 0.2\n",
    "# split the training data into a subset and the remaining data\n",
    "subset_indices = np.random.choice(len(training_features), int(subset_size * len(training_features)), replace=False)\n",
    "subset_features = training_features[subset_indices]\n",
    "\n",
    "# compute the class distribution of the subset\n",
    "subset_labels = training_labels[subset_indices]\n",
    "subset_class_distribution = np.bincount(subset_labels)\n",
    "\n",
    "# compute the class distribution of the entire training set\n",
    "training_class_distribution = np.bincount(training_labels)\n",
    "\n",
    "# compare the class distributions\n",
    "print('Class distribution of the entire training set: ', training_class_distribution)\n",
    "print('Class distribution of the subset: ', subset_class_distribution)\n",
    "\n",
    "# visualize plots of the class distributions\n",
    "import matplotlib.pyplot as plt\n",
    "plt.bar(np.arange(len(training_class_distribution)), training_class_distribution, label='Training set')\n",
    "plt.bar(np.arange(len(subset_class_distribution)), subset_class_distribution, label='Subset')\n",
    "plt.legend()\n",
    "plt.show()"
   ],
   "metadata": {
    "collapsed": false
   }
  },
  {
   "cell_type": "markdown",
   "source": [
    "Perform grid search"
   ],
   "metadata": {
    "collapsed": false
   }
  },
  {
   "cell_type": "code",
   "execution_count": null,
   "outputs": [],
   "source": [
    "from datetime import datetime\n",
    "from sklearn.svm import SVC\n",
    "\n",
    "class_weights = dict(\n",
    "    zip(\n",
    "        range(len(training_class_distribution)),\n",
    "        max(training_class_distribution) / training_class_distribution\n",
    "    )\n",
    ")\n",
    "\n",
    "# SVM classification\n",
    "parameters = {\n",
    "    'C': [ 1, 50, 75],\n",
    "    'gamma': [1, 0.01, 0.001 , 'scale'],\n",
    "    'kernel': ['rbf', 'poly', 'sigmoid'],\n",
    "    'class_weight': ['balanced', None, class_weights]\n",
    "}\n",
    "\n",
    "print(class_weights)\n",
    "# Construct the final SVM\n",
    "final_svm_classifier = SVC(class_weight=class_weights)\n",
    "# Perform grid search to find the best parameters\n",
    "from sklearn.model_selection import GridSearchCV\n",
    "print('Begin grid search' + ' - ' + str(datetime.now()))\n",
    "grid_search = GridSearchCV(final_svm_classifier, parameters, cv=5)\n",
    "print('Training SVM to find the best hyperparameters' + ' - ' + str(datetime.now()))\n",
    "grid_search.fit(subset_features, subset_labels)\n",
    "print('Finished looking for best hyperparameters' + ' - ' + str(datetime.now()))\n",
    "print('Best hyperparameters: ', grid_search.best_params_)\n"
   ],
   "metadata": {
    "collapsed": false
   }
  },
  {
   "cell_type": "markdown",
   "source": [
    "Train the final SVM"
   ],
   "metadata": {
    "collapsed": false
   }
  },
  {
   "cell_type": "code",
   "execution_count": null,
   "outputs": [],
   "source": [
    "# Use the best model for prediction\n",
    "final_svm_classifier = grid_search.best_estimator_\n",
    "# use the already existing model\n",
    "print('Begin training final SVM model' + ' - ' + str(datetime.now()))\n",
    "final_svm_classifier.fit(training_features, training_labels)\n",
    "print('Finished training final SVM model' + ' - ' + str(datetime.now()))"
   ],
   "metadata": {
    "collapsed": false
   }
  },
  {
   "cell_type": "markdown",
   "source": [
    "Predict with the final SVM"
   ],
   "metadata": {
    "collapsed": false
   }
  },
  {
   "cell_type": "code",
   "execution_count": null,
   "outputs": [],
   "source": [
    "all_test_features = np.load('models/test_features-3.npy')\n",
    "test_labels = np.load('models/test_labels-3.npy')\n",
    "\n",
    "# compute the class distribution of the test set\n",
    "test_class_distribution = np.bincount(test_labels)\n",
    "\n",
    "# compare the class distributions\n",
    "print('Class distribution of the test set: ', test_class_distribution)\n",
    "\n",
    "# visualize plots of the class distributions\n",
    "import matplotlib.pyplot as plt\n",
    "plt.bar(np.arange(len(test_class_distribution)), test_class_distribution, label='Test set')\n",
    "plt.legend()\n",
    "plt.show()\n",
    "\n"
   ],
   "metadata": {
    "collapsed": false
   }
  },
  {
   "cell_type": "code",
   "execution_count": null,
   "outputs": [],
   "source": [
    "# perform oversampling on the test set\n",
    "majority_test_class_count = np.max(test_class_distribution)\n",
    "\n",
    "upsampled_test_features = []\n",
    "upsampled_test_labels = []\n",
    "\n",
    "for label, count in enumerate(test_class_distribution):\n",
    "    scaling_factor = scaling_factor_min + (scaling_factor_max - scaling_factor_min) * ((count - 1) / (majority_test_class_count - 1))\n",
    "    class_indices = np.where(test_labels == label)[0]\n",
    "    desired_class_size = int(np.round((majority_test_class_count - 1) * scaling_factor)) + 1\n",
    "    oversampled_class_indices = resample(class_indices, replace=True, n_samples=desired_class_size, random_state=42)\n",
    "\n",
    "    upsampled_test_features.append(all_test_features[oversampled_class_indices])\n",
    "    upsampled_test_labels.append(test_labels[oversampled_class_indices])\n",
    "\n",
    "upsampled_test_features = np.concatenate(upsampled_test_features)\n",
    "upsampled_test_labels = np.concatenate(upsampled_test_labels)\n",
    "\n",
    "# see the class distribution of the upsampled test set\n",
    "upsampled_test_class_distribution = np.bincount(upsampled_test_labels)\n",
    "print('Class distribution of the upsampled test set: ', upsampled_test_class_distribution)\n",
    "\n",
    "# visualize plots of the class distributions\n",
    "import matplotlib.pyplot as plt\n",
    "plt.bar(np.arange(len(upsampled_test_class_distribution)), upsampled_test_class_distribution, label='Test set')\n",
    "plt.legend()\n",
    "plt.show()\n"
   ],
   "metadata": {
    "collapsed": false
   }
  },
  {
   "cell_type": "code",
   "execution_count": null,
   "outputs": [],
   "source": [
    "from sklearn.metrics import classification_report\n",
    "# load the test features and labels\n",
    "print('Begin prediction' + ' - ' + str(datetime.now()))\n",
    "predictions = final_svm_classifier.predict(all_test_features)\n",
    "print('Finish prediction' + ' - ' + str(datetime.now()))\n",
    "report = classification_report(test_labels, predictions)\n",
    "print(report)"
   ],
   "metadata": {
    "collapsed": false
   }
  }
 ],
 "metadata": {
  "kernelspec": {
   "display_name": "Python 3",
   "language": "python",
   "name": "python3"
  },
  "language_info": {
   "codemirror_mode": {
    "name": "ipython",
    "version": 2
   },
   "file_extension": ".py",
   "mimetype": "text/x-python",
   "name": "python",
   "nbconvert_exporter": "python",
   "pygments_lexer": "ipython2",
   "version": "2.7.6"
  }
 },
 "nbformat": 4,
 "nbformat_minor": 0
}
