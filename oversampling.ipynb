{
 "cells": [
  {
   "cell_type": "code",
   "execution_count": 3,
   "metadata": {
    "collapsed": true,
    "ExecuteTime": {
     "end_time": "2023-06-13T11:08:44.923563800Z",
     "start_time": "2023-06-13T11:08:43.276497900Z"
    }
   },
   "outputs": [
    {
     "name": "stdout",
     "output_type": "stream",
     "text": [
      "Class distribution of the entire training set:  [4666 5362 1304 2159 1937  572]\n"
     ]
    },
    {
     "data": {
      "text/plain": "<Figure size 640x480 with 1 Axes>",
      "image/png": "[encoded data removed]"
     },
     "metadata": {},
     "output_type": "display_data"
    }
   ],
   "source": [
    "import numpy as np\n",
    "# load the training features and labels\n",
    "training_features = np.load('models/training_features-data-clean.npy')\n",
    "training_labels = np.load('models/training_labels-data-clean.npy')\n",
    "\n",
    "\n",
    "# compute the class distribution of the entire training set\n",
    "training_class_distribution = np.bincount(training_labels)\n",
    "\n",
    "# compare the class distributions\n",
    "print('Class distribution of the entire training set: ', training_class_distribution)\n",
    "\n",
    "# visualize plots of the class distributions\n",
    "import matplotlib.pyplot as plt\n",
    "plt.bar(np.arange(len(training_class_distribution)), training_class_distribution, label='Training set')\n",
    "plt.legend()\n",
    "plt.show()\n"
   ]
  },
  {
   "cell_type": "markdown",
   "source": [
    "The data that have labels 2, 3, 4 and 5 especially need to be augmented. The data that have labels 0 and 1 are already well represented in the training set."
   ],
   "metadata": {
    "collapsed": false
   }
  },
  {
   "cell_type": "code",
   "execution_count": 4,
   "outputs": [],
   "source": [
    "from sklearn.utils import resample\n",
    "\n",
    "majority_class_count = np.max(training_class_distribution)\n",
    "\n",
    "upsampled_training_features = []\n",
    "upsampled_training_labels = []\n",
    "\n",
    "for label in np.unique(training_labels):\n",
    "    class_indices = np.where(training_labels == label)[0]\n",
    "    oversampled_class_indices = resample(class_indices, replace=True, n_samples=majority_class_count, random_state=0)\n",
    "\n",
    "    upsampled_training_features.append(training_features[oversampled_class_indices])\n",
    "    upsampled_training_labels.append(training_labels[oversampled_class_indices])\n",
    "\n",
    "upsampled_training_features = np.concatenate(upsampled_training_features)\n",
    "upsampled_training_labels = np.concatenate(upsampled_training_labels)\n"
   ],
   "metadata": {
    "collapsed": false,
    "ExecuteTime": {
     "end_time": "2023-06-13T11:08:50.526939100Z",
     "start_time": "2023-06-13T11:08:48.782781100Z"
    }
   }
  },
  {
   "cell_type": "markdown",
   "source": [
    "Choose a suitable dataset for grid search"
   ],
   "metadata": {
    "collapsed": false
   }
  },
  {
   "cell_type": "code",
   "execution_count": 5,
   "outputs": [
    {
     "name": "stdout",
     "output_type": "stream",
     "text": [
      "Class distribution of the entire training set:  [5362 5362 5362 5362 5362 5362]\n",
      "Class distribution of the subset:  [530 536 574 537 544 496]\n"
     ]
    },
    {
     "data": {
      "text/plain": "<Figure size 640x480 with 1 Axes>",
      "image/png": "[encoded data removed]"
     },
     "metadata": {},
     "output_type": "display_data"
    }
   ],
   "source": [
    "subset_size = 0.1\n",
    "# split the training data into a subset and the remaining data\n",
    "subset_indices = np.random.choice(len(upsampled_training_features), int(subset_size * len(upsampled_training_features)), replace=False)\n",
    "subset_features = upsampled_training_features[subset_indices]\n",
    "\n",
    "# compute the class distribution of the subset\n",
    "subset_labels = upsampled_training_labels[subset_indices]\n",
    "subset_class_distribution = np.bincount(subset_labels)\n",
    "\n",
    "# compute the class distribution of the entire training set\n",
    "training_class_distribution = np.bincount(upsampled_training_labels)\n",
    "\n",
    "# compare the class distributions\n",
    "print('Class distribution of the entire training set: ', training_class_distribution)\n",
    "print('Class distribution of the subset: ', subset_class_distribution)\n",
    "\n",
    "# visualize plots of the class distributions\n",
    "import matplotlib.pyplot as plt\n",
    "plt.bar(np.arange(len(training_class_distribution)), training_class_distribution, label='Training set')\n",
    "plt.bar(np.arange(len(subset_class_distribution)), subset_class_distribution, label='Subset')\n",
    "plt.legend()\n",
    "plt.show()"
   ],
   "metadata": {
    "collapsed": false,
    "ExecuteTime": {
     "end_time": "2023-06-13T11:08:54.359087100Z",
     "start_time": "2023-06-13T11:08:54.143429700Z"
    }
   }
  },
  {
   "cell_type": "markdown",
   "source": [
    "Perform grid search"
   ],
   "metadata": {
    "collapsed": false
   }
  },
  {
   "cell_type": "code",
   "execution_count": 6,
   "outputs": [
    {
     "name": "stdout",
     "output_type": "stream",
     "text": [
      "Begin grid search - 2023-06-13 14:08:59.193413\n",
      "Training SVM to find the best hyperparameters - 2023-06-13 14:08:59.193413\n",
      "Finished looking for best hyperparameters - 2023-06-13 14:19:21.144833\n",
      "Best hyperparameters:  {'C': 50, 'gamma': 0.01, 'kernel': 'rbf'}\n"
     ]
    }
   ],
   "source": [
    "from datetime import datetime\n",
    "from sklearn.svm import SVC\n",
    "\n",
    "# SVM classification\n",
    "parameters = {\n",
    "    'C': [ 1, 50, 75],\n",
    "    'gamma': [1, 0.01, 0.001 , 'scale'],\n",
    "    'kernel': ['rbf', 'poly', 'sigmoid']\n",
    "}\n",
    "# Construct the final SVM\n",
    "final_svm_classifier = SVC()\n",
    "# Perform grid search to find the best parameters\n",
    "from sklearn.model_selection import GridSearchCV\n",
    "print('Begin grid search' + ' - ' + str(datetime.now()))\n",
    "grid_search = GridSearchCV(final_svm_classifier, parameters, cv=5)\n",
    "print('Training SVM to find the best hyperparameters' + ' - ' + str(datetime.now()))\n",
    "grid_search.fit(subset_features, subset_labels)\n",
    "print('Finished looking for best hyperparameters' + ' - ' + str(datetime.now()))\n",
    "print('Best hyperparameters: ', grid_search.best_params_)\n"
   ],
   "metadata": {
    "collapsed": false,
    "ExecuteTime": {
     "end_time": "2023-06-13T11:19:21.158112200Z",
     "start_time": "2023-06-13T11:08:59.058819100Z"
    }
   }
  },
  {
   "cell_type": "markdown",
   "source": [
    "Train the final SVM"
   ],
   "metadata": {
    "collapsed": false
   }
  },
  {
   "cell_type": "code",
   "execution_count": 7,
   "outputs": [
    {
     "name": "stdout",
     "output_type": "stream",
     "text": [
      "Begin training final SVM model - 2023-06-13 14:19:34.370411\n",
      "Finished training final SVM model - 2023-06-13 14:24:29.540549\n"
     ]
    }
   ],
   "source": [
    "# Use the best model for prediction\n",
    "final_svm_classifier = grid_search.best_estimator_\n",
    "# use the already existing model\n",
    "print('Begin training final SVM model' + ' - ' + str(datetime.now()))\n",
    "final_svm_classifier.fit(upsampled_training_features, upsampled_training_labels)\n",
    "print('Finished training final SVM model' + ' - ' + str(datetime.now()))"
   ],
   "metadata": {
    "collapsed": false,
    "ExecuteTime": {
     "end_time": "2023-06-13T11:24:29.549954800Z",
     "start_time": "2023-06-13T11:19:34.371417400Z"
    }
   }
  },
  {
   "cell_type": "markdown",
   "source": [
    "Predict with the final SVM"
   ],
   "metadata": {
    "collapsed": false
   }
  },
  {
   "cell_type": "code",
   "execution_count": 9,
   "outputs": [
    {
     "name": "stdout",
     "output_type": "stream",
     "text": [
      "Class distribution of the test set:  [581 695 159 275 224  66]\n"
     ]
    },
    {
     "data": {
      "text/plain": "<Figure size 640x480 with 1 Axes>",
      "image/png": "[encoded data removed]"
     },
     "metadata": {},
     "output_type": "display_data"
    }
   ],
   "source": [
    "all_test_features = np.load('models/test_features-clean-data.npy')\n",
    "test_labels = np.load('models/test_labels-clean-data.npy')\n",
    "\n",
    "# compute the class distribution of the test set\n",
    "test_class_distribution = np.bincount(test_labels)\n",
    "\n",
    "# compare the class distributions\n",
    "print('Class distribution of the test set: ', test_class_distribution)\n",
    "\n",
    "# visualize plots of the class distributions\n",
    "import matplotlib.pyplot as plt\n",
    "plt.bar(np.arange(len(test_class_distribution)), test_class_distribution, label='Test set')\n",
    "plt.legend()\n",
    "plt.show()\n",
    "\n"
   ],
   "metadata": {
    "collapsed": false,
    "ExecuteTime": {
     "end_time": "2023-06-13T13:34:21.935644900Z",
     "start_time": "2023-06-13T13:34:21.737239100Z"
    }
   }
  },
  {
   "cell_type": "code",
   "execution_count": 10,
   "outputs": [
    {
     "name": "stdout",
     "output_type": "stream",
     "text": [
      "Class distribution of the upsampled test set:  [695 695 695 695 695 695]\n"
     ]
    },
    {
     "data": {
      "text/plain": "<Figure size 640x480 with 1 Axes>",
      "image/png": "[encoded data removed]"
     },
     "metadata": {},
     "output_type": "display_data"
    }
   ],
   "source": [
    "# perform oversampling on the test set\n",
    "majority_class_count = np.max(test_class_distribution)\n",
    "\n",
    "upsampled_test_features = []\n",
    "upsampled_test_labels = []\n",
    "\n",
    "for label in np.unique(test_labels):\n",
    "    class_indices = np.where(test_labels == label)[0]\n",
    "    oversampled_class_indices = resample(class_indices, replace=True, n_samples=majority_class_count, random_state=0)\n",
    "\n",
    "    upsampled_test_features.append(all_test_features[oversampled_class_indices])\n",
    "    upsampled_test_labels.append(test_labels[oversampled_class_indices])\n",
    "\n",
    "upsampled_test_features = np.concatenate(upsampled_test_features)\n",
    "upsampled_test_labels = np.concatenate(upsampled_test_labels)\n",
    "\n",
    "# see the class distribution of the upsampled test set\n",
    "upsampled_test_class_distribution = np.bincount(upsampled_test_labels)\n",
    "print('Class distribution of the upsampled test set: ', upsampled_test_class_distribution)\n",
    "\n",
    "# visualize plots of the class distributions\n",
    "import matplotlib.pyplot as plt\n",
    "plt.bar(np.arange(len(upsampled_test_class_distribution)), upsampled_test_class_distribution, label='Test set')\n",
    "plt.legend()\n",
    "plt.show()\n"
   ],
   "metadata": {
    "collapsed": false,
    "ExecuteTime": {
     "end_time": "2023-06-13T13:35:54.151371200Z",
     "start_time": "2023-06-13T13:35:53.919174200Z"
    }
   }
  },
  {
   "cell_type": "code",
   "execution_count": 11,
   "outputs": [
    {
     "name": "stdout",
     "output_type": "stream",
     "text": [
      "Begin prediction - 2023-06-13 16:36:18.740048\n",
      "Finish prediction - 2023-06-13 16:37:30.928161\n",
      "              precision    recall  f1-score   support\n",
      "\n",
      "           0       0.42      0.62      0.50       695\n",
      "           1       0.44      0.71      0.55       695\n",
      "           2       0.67      0.42      0.52       695\n",
      "           3       0.61      0.51      0.56       695\n",
      "           4       0.49      0.53      0.51       695\n",
      "           5       0.77      0.27      0.41       695\n",
      "\n",
      "    accuracy                           0.51      4170\n",
      "   macro avg       0.57      0.51      0.51      4170\n",
      "weighted avg       0.57      0.51      0.51      4170\n",
      "\n"
     ]
    }
   ],
   "source": [
    "from sklearn.metrics import classification_report\n",
    "# load the test features and labels\n",
    "print('Begin prediction' + ' - ' + str(datetime.now()))\n",
    "predictions = final_svm_classifier.predict(upsampled_test_features)\n",
    "print('Finish prediction' + ' - ' + str(datetime.now()))\n",
    "report = classification_report(upsampled_test_labels, predictions)\n",
    "print(report)"
   ],
   "metadata": {
    "collapsed": false,
    "ExecuteTime": {
     "end_time": "2023-06-13T13:37:30.948400900Z",
     "start_time": "2023-06-13T13:36:18.740048200Z"
    }
   }
  },
  {
   "cell_type": "code",
   "execution_count": null,
   "outputs": [],
   "source": [],
   "metadata": {
    "collapsed": false
   }
  }
 ],
 "metadata": {
  "kernelspec": {
   "display_name": "Python 3",
   "language": "python",
   "name": "python3"
  },
  "language_info": {
   "codemirror_mode": {
    "name": "ipython",
    "version": 2
   },
   "file_extension": ".py",
   "mimetype": "text/x-python",
   "name": "python",
   "nbconvert_exporter": "python",
   "pygments_lexer": "ipython2",
   "version": "2.7.6"
  }
 },
 "nbformat": 4,
 "nbformat_minor": 0
}
