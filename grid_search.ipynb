{
 "cells": [
  {
   "cell_type": "code",
   "execution_count": 1,
   "metadata": {
    "collapsed": true,
    "ExecuteTime": {
     "end_time": "2023-06-14T13:15:40.106676400Z",
     "start_time": "2023-06-14T13:15:40.082771Z"
    }
   },
   "outputs": [],
   "source": [
    "import numpy as np\n",
    "\n",
    "training_features = np.load('models/training_features-3.npy')\n",
    "training_labels = np.load('models/training_labels-3.npy')"
   ]
  },
  {
   "cell_type": "code",
   "execution_count": null,
   "outputs": [
    {
     "name": "stdout",
     "output_type": "stream",
     "text": [
      "Begin grid search - 2023-06-14 19:17:42.974431\n",
      "Training SVM to find the best hyperparameters - 2023-06-14 19:17:42.975427\n"
     ]
    }
   ],
   "source": [
    "from datetime import datetime\n",
    "from sklearn.svm import SVC\n",
    "\n",
    "training_class_distribution = np.bincount(training_labels)\n",
    "\n",
    "class_weights = dict(\n",
    "    zip(\n",
    "        range(len(training_class_distribution)),\n",
    "        max(training_class_distribution) / training_class_distribution\n",
    "    )\n",
    ")\n",
    "\n",
    "# SVM classification\n",
    "parameters = {\n",
    "    'C': [ 1, 50, 75],\n",
    "    'gamma': [1, 0.01, 'scale'],\n",
    "    'kernel': ['rbf', 'poly'],\n",
    "    'class_weight': ['balanced', class_weights]\n",
    "}\n",
    "# Construct the final SVM\n",
    "final_svm_classifier = SVC()\n",
    "# Perform grid search to find the best parameters\n",
    "from sklearn.model_selection import GridSearchCV\n",
    "print('Begin grid search' + ' - ' + str(datetime.now()))\n",
    "grid_search = GridSearchCV(final_svm_classifier, parameters, cv=5)\n",
    "print('Training SVM to find the best hyperparameters' + ' - ' + str(datetime.now()))\n",
    "grid_search.fit(training_features, training_labels)\n",
    "print('Finished looking for best hyperparameters' + ' - ' + str(datetime.now()))\n",
    "print('Best hyperparameters: ', grid_search.best_params_)\n"
   ],
   "metadata": {
    "collapsed": false,
    "is_executing": true,
    "ExecuteTime": {
     "start_time": "2023-06-14T16:17:42.974431700Z"
    }
   }
  },
  {
   "cell_type": "code",
   "execution_count": null,
   "outputs": [],
   "source": [
    "# Use the best model for prediction\n",
    "final_svm_classifier = grid_search.best_estimator_\n",
    "# use the already existing model\n",
    "print('Begin training final SVM model' + ' - ' + str(datetime.now()))\n",
    "final_svm_classifier.fit(training_features, training_labels)\n",
    "print('Finished training final SVM model' + ' - ' + str(datetime.now()))"
   ],
   "metadata": {
    "collapsed": false
   }
  },
  {
   "cell_type": "code",
   "execution_count": null,
   "outputs": [],
   "source": [
    "all_test_features = np.load('models/test_features-3.npy')\n",
    "test_labels = np.load('models/test_labels-3.npy')\n",
    "from sklearn.metrics import classification_report\n",
    "# load the test features and labels\n",
    "print('Begin prediction' + ' - ' + str(datetime.now()))\n",
    "predictions = final_svm_classifier.predict(all_test_features)\n",
    "print('Finish prediction' + ' - ' + str(datetime.now()))\n",
    "report = classification_report(test_labels, predictions)\n",
    "print(report)"
   ],
   "metadata": {
    "collapsed": false
   }
  }
 ],
 "metadata": {
  "kernelspec": {
   "display_name": "Python 3",
   "language": "python",
   "name": "python3"
  },
  "language_info": {
   "codemirror_mode": {
    "name": "ipython",
    "version": 2
   },
   "file_extension": ".py",
   "mimetype": "text/x-python",
   "name": "python",
   "nbconvert_exporter": "python",
   "pygments_lexer": "ipython2",
   "version": "2.7.6"
  }
 },
 "nbformat": 4,
 "nbformat_minor": 0
}
