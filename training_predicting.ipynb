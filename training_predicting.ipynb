{
 "cells": [
  {
   "cell_type": "code",
   "execution_count": null,
   "metadata": {
    "collapsed": true
   },
   "outputs": [],
   "source": [
    "import numpy as np\n",
    "# load model with joblib\n",
    "import joblib\n",
    "loaded_svm_model = joblib.load('models/model-7-over.pkl')\n",
    "\n",
    "# load test features and test labels\n",
    "test_features = np.load('models/test_features-3-over.npy')\n",
    "test_labels = np.load('models/test_labels-3-over.npy')\n",
    "\n",
    "# make predictions\n",
    "print(\"Making predictions...\")\n",
    "predictions = loaded_svm_model.predict(test_features)\n",
    "\n",
    "# classification report\n",
    "from sklearn.metrics import classification_report\n",
    "print(classification_report(test_labels, predictions))"
   ]
  },
  {
   "cell_type": "markdown",
   "source": [
    "Plots to see if the model is overfitting"
   ],
   "metadata": {
    "collapsed": false
   }
  },
  {
   "cell_type": "code",
   "execution_count": null,
   "outputs": [],
   "source": [
    "from datetime import datetime\n",
    "from sklearn.svm import SVC\n",
    "\n",
    "svm_model = SVC(kernel='rbf', C=75, gamma=0.01)\n",
    "# learning curves\n",
    "training_f = np.load('models/training_features-3-over.npy')\n",
    "training_l = np.load('models/training_labels-3-over.npy')\n",
    "from sklearn.model_selection import learning_curve\n",
    "import matplotlib.pyplot as plt\n",
    "print(\"Plotting learning curve...\" + datetime.now().strftime(\"%H:%M:%S\"))\n",
    "train_sizes, train_scores, test_scores = learning_curve(svm_model, training_f, training_l, cv=5, scoring='accuracy', n_jobs=4, train_sizes=np.linspace(0.01, 1.0, 5), verbose=1)\n",
    "train_scores_mean = np.mean(train_scores, axis=1)\n",
    "train_scores_std = np.std(train_scores, axis=1)\n",
    "val_scores_mean = np.mean(test_scores, axis=1)\n",
    "val_scores_std = np.std(test_scores, axis=1)\n",
    "\n",
    "plt.figure()\n",
    "plt.title(\"Learning Curve\")\n",
    "plt.xlabel(\"Training Examples\")\n",
    "plt.ylabel(\"Score\")\n",
    "plt.grid()\n",
    "\n",
    "plt.fill_between(train_sizes, train_scores_mean - train_scores_std, train_scores_mean + train_scores_std, alpha=0.1, color=\"r\")\n",
    "plt.fill_between(train_sizes, val_scores_mean - val_scores_std, val_scores_mean + val_scores_std, alpha=0.1, color=\"g\")\n",
    "\n",
    "plt.plot(train_sizes, train_scores_mean, 'o-', color=\"r\", label=\"Training Score\")\n",
    "plt.plot(train_sizes, val_scores_mean, 'o-', color=\"g\", label=\"Cross-Validation Score\")\n",
    "\n",
    "plt.legend(loc=\"best\")\n",
    "plt.show()\n",
    "\n"
   ],
   "metadata": {
    "collapsed": false
   }
  },
  {
   "cell_type": "code",
   "execution_count": null,
   "outputs": [],
   "source": [
    "training_features = np.load('models/training_features-3.npy')\n",
    "training_labels = np.load('models/training_labels-3.npy')\n",
    "training_class_distribution = np.bincount(training_labels)\n",
    "\n",
    "class_weights = dict(\n",
    "    zip(\n",
    "        range(len(training_class_distribution)),\n",
    "        max(training_class_distribution) / training_class_distribution\n",
    "    )\n",
    ")\n",
    "\n",
    "new_svm_model = SVC(kernel='poly', C=99, gamma='auto', class_weight=class_weights)\n",
    "print(\"Training model...\" + datetime.now().strftime(\"%H:%M:%S\"))\n",
    "new_svm_model.fit(training_features, training_labels)\n",
    "print(\"Saving model...\" + datetime.now().strftime(\"%H:%M:%S\"))\n",
    "\n",
    "# load test features and test labels\n",
    "test_features = np.load('models/test_features-3.npy')\n",
    "test_labels = np.load('models/test_labels-3.npy')\n",
    "\n",
    "# make predictions\n",
    "print(\"Making predictions...\")\n",
    "predictions = new_svm_model.predict(test_features)\n",
    "print(classification_report(test_labels, predictions))"
   ],
   "metadata": {
    "collapsed": false
   }
  },
  {
   "cell_type": "code",
   "execution_count": null,
   "outputs": [],
   "source": [],
   "metadata": {
    "collapsed": false
   }
  }
 ],
 "metadata": {
  "kernelspec": {
   "display_name": "Python 3",
   "language": "python",
   "name": "python3"
  },
  "language_info": {
   "codemirror_mode": {
    "name": "ipython",
    "version": 2
   },
   "file_extension": ".py",
   "mimetype": "text/x-python",
   "name": "python",
   "nbconvert_exporter": "python",
   "pygments_lexer": "ipython2",
   "version": "2.7.6"
  }
 },
 "nbformat": 4,
 "nbformat_minor": 0
}
