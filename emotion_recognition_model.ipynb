{
 "cells": [
  {
   "cell_type": "markdown",
   "source": [
    "Load data from the data set into test, training and validation sets"
   ],
   "metadata": {
    "collapsed": false,
    "pycharm": {
     "name": "#%% md\n"
    }
   }
  },
  {
   "cell_type": "code",
   "execution_count": null,
   "outputs": [],
   "source": [
    "import pandas as pd\n",
    "import numpy as np\n",
    "import torch\n",
    "from datetime import datetime\n",
    "\n",
    "test = pd.read_csv(\"datasets/test.csv\")\n",
    "training = pd.read_csv(\"datasets/training.csv\")\n",
    "validation = pd.read_csv(\"datasets/validation.csv\")\n",
    "\n",
    "print(\"Dataset information: \")\n",
    "print(f'Training data: {training.shape}')\n",
    "print(f'Validation data: {validation.shape}')\n",
    "print(f'Test data: {test.shape}')"
   ],
   "metadata": {
    "collapsed": false
   }
  },
  {
   "cell_type": "markdown",
   "source": [
    "Load tokenizer, model and create functions needed to process text"
   ],
   "metadata": {
    "collapsed": false
   }
  },
  {
   "cell_type": "code",
   "execution_count": null,
   "outputs": [],
   "source": [
    "import string\n",
    "import re\n",
    "from transformers import DistilBertTokenizer, DistilBertModel\n",
    "import contractions\n",
    "\n",
    "# Load BERT model and tokenizer\n",
    "tokenizer = DistilBertTokenizer.from_pretrained('distilbert-base-cased')\n",
    "model = DistilBertModel.from_pretrained('distilbert-base-cased')\n",
    "\n",
    "\n",
    "def preprocess_text(text):\n",
    "    # remove links\n",
    "    text = re.sub(r\"http\\S+|www\\S+|https\\S+\", \"\", text)\n",
    "    # remove words like href, img, www, http, width, height, src\n",
    "    text = re.sub(r\"\\S*(href|img|www|http|width|height|src)\\S*\", \"\", text)\n",
    "    # remove contractions\n",
    "    text = contractions.fix(text)\n",
    "    # remove special characters\n",
    "    text = text.translate(str.maketrans('', '', string.punctuation))\n",
    "\n",
    "    encoded_input = tokenizer.encode_plus(\n",
    "        text,\n",
    "        add_special_tokens=False,\n",
    "        max_length=512,\n",
    "        padding='max_length',\n",
    "        truncation=True,\n",
    "        return_tensors='pt'\n",
    "    )\n",
    "    return encoded_input['input_ids'], encoded_input['attention_mask']\n",
    "\n",
    "def extract_features(inputs, masks):\n",
    "    print('Extract features' + ' - ' + str(datetime.now()))\n",
    "    with torch.no_grad():\n",
    "        outputs = model(inputs, attention_mask=masks)\n",
    "        pooled_output = outputs[0][:, 0, :]\n",
    "    print('Finish extract features' + ' - ' + str(datetime.now()))\n",
    "    return pooled_output.numpy()"
   ],
   "metadata": {
    "collapsed": false,
    "pycharm": {
     "name": "#%%\n"
    }
   }
  },
  {
   "cell_type": "markdown",
   "source": [
    "Perform batch text preprocessing"
   ],
   "metadata": {
    "collapsed": false,
    "pycharm": {
     "name": "#%% md\n"
    }
   }
  },
  {
   "cell_type": "code",
   "execution_count": null,
   "outputs": [],
   "source": [
    "# Preprocess training dataset\n",
    "batch_size = 500\n",
    "num_batches = len(training) // batch_size\n",
    "training_features = []\n",
    "for i in range(num_batches):\n",
    "    print('Begin preprocess batch ' + str(i) + ' - ' + str(datetime.now()))\n",
    "    # Get the current batch\n",
    "    batch_data = training[i * batch_size : (i + 1) * batch_size]['text']\n",
    "    batch_labels = training[i * batch_size : (i + 1) * batch_size]['label']\n",
    "\n",
    "    # Preprocess the input text using DistilBERT for the current batch\n",
    "    batch_inputs = []\n",
    "    batch_masks = []\n",
    "    print('Begin preprocess text in batch ' + str(i) + ' - ' + str(datetime.now()))\n",
    "    for text in batch_data:\n",
    "        input_ids, attention_mask = preprocess_text(text)\n",
    "        batch_inputs.append(input_ids)\n",
    "        batch_masks.append(attention_mask)\n",
    "\n",
    "    batch_inputs = torch.cat(batch_inputs, dim=0)\n",
    "    batch_masks = torch.cat(batch_masks, dim=0)\n",
    "\n",
    "    pooled_output = extract_features(batch_inputs, batch_masks)\n",
    "    training_features.append(pooled_output)\n",
    "    print('Finish preprocess batch ' + str(i) + ' - ' + str(datetime.now()))\n",
    "# obtain final features and labels\n",
    "training_features = np.concatenate(training_features, axis=0)\n",
    "training_labels = training['label'].values[:training_features.shape[0]]\n",
    "\n",
    "# save the features and labels\n",
    "np.save('models/training_features-3.npy', training_features)\n",
    "np.save('models/training_labels-3.npy', training_labels)"
   ],
   "metadata": {
    "collapsed": false
   }
  },
  {
   "cell_type": "markdown",
   "source": [
    "Choose a suitable subset of the training data to find the best parameters for the SVM model"
   ],
   "metadata": {
    "collapsed": false,
    "pycharm": {
     "name": "#%% md\n"
    }
   }
  },
  {
   "cell_type": "code",
   "execution_count": null,
   "outputs": [],
   "source": [
    "from sklearn.svm import SVC\n",
    "\n",
    "# load the training features and labels\n",
    "training_features = np.load('models/training_features-3.npy')\n",
    "training_labels = np.load('models/training_labels-3.npy')\n",
    "\n",
    "subset_size = 0.3\n",
    "# split the training data into a subset and the remaining data\n",
    "subset_indices = np.random.choice(len(training_features), int(subset_size * len(training_features)), replace=False)\n",
    "subset_features = training_features[subset_indices]\n",
    "\n",
    "# compute the class distribution of the subset\n",
    "subset_labels = training_labels[subset_indices]\n",
    "subset_class_distribution = np.bincount(subset_labels)\n",
    "\n",
    "# compute the class distribution of the entire training set\n",
    "training_class_distribution = np.bincount(training_labels)\n",
    "\n",
    "# compare the class distributions\n",
    "print('Class distribution of the entire training set: ', training_class_distribution)\n",
    "print('Class distribution of the subset: ', subset_class_distribution)\n",
    "\n",
    "# visualize plots of the class distributions\n",
    "import matplotlib.pyplot as plt\n",
    "plt.bar(np.arange(len(training_class_distribution)), training_class_distribution, label='Training set')\n",
    "plt.bar(np.arange(len(subset_class_distribution)), subset_class_distribution, label='Subset')\n",
    "plt.legend()\n",
    "plt.show()\n"
   ],
   "metadata": {
    "collapsed": false
   }
  },
  {
   "cell_type": "markdown",
   "source": [
    "Perform grid search to find the best parameters for the SVM model"
   ],
   "metadata": {
    "collapsed": false
   }
  },
  {
   "cell_type": "code",
   "execution_count": null,
   "outputs": [],
   "source": [
    "# SVM classification\n",
    "parameters = {\n",
    "    'C': [ 1, 50, 75, 0.1],\n",
    "    'gamma': [1, 0.01, 'auto' , 'scale'],\n",
    "    'kernel': ['rbf', 'poly', 'linear']\n",
    "}\n",
    "# Construct the final SVM\n",
    "final_svm_classifier = SVC()\n",
    "# Perform grid search to find the best parameters\n",
    "from sklearn.model_selection import GridSearchCV\n",
    "print('Begin grid search' + ' - ' + str(datetime.now()))\n",
    "grid_search = GridSearchCV(final_svm_classifier, parameters, cv=5)\n",
    "print('Training SVM to find the best hyperparameters' + ' - ' + str(datetime.now()))\n",
    "grid_search.fit(subset_features, subset_labels)\n",
    "print('Finished looking for best hyperparameters' + ' - ' + str(datetime.now()))\n",
    "print('Best hyperparameters: ', grid_search.best_params_)\n"
   ],
   "metadata": {
    "collapsed": false
   }
  },
  {
   "cell_type": "markdown",
   "source": [
    "Train the final SVM model with the best parameters"
   ],
   "metadata": {
    "collapsed": false
   }
  },
  {
   "cell_type": "code",
   "execution_count": null,
   "outputs": [],
   "source": [
    "import joblib\n",
    "# Use the best model for prediction\n",
    "final_svm_classifier = grid_search.best_estimator_\n",
    "# use the already existing model\n",
    "print('Begin training final SVM model' + ' - ' + str(datetime.now()))\n",
    "final_svm_classifier.fit(training_features, training_labels)\n",
    "print('Finished training final SVM model' + ' - ' + str(datetime.now()))"
   ],
   "metadata": {
    "collapsed": false
   }
  },
  {
   "cell_type": "markdown",
   "source": [
    "Save the generated model for later use"
   ],
   "metadata": {
    "collapsed": false,
    "pycharm": {
     "name": "#%% md\n"
    }
   }
  },
  {
   "cell_type": "code",
   "execution_count": null,
   "outputs": [],
   "source": [
    "# Save generated SVM model\n",
    "import joblib\n",
    "joblib.dump(final_svm_classifier, 'models/model-3.pkl')"
   ],
   "metadata": {
    "collapsed": false,
    "pycharm": {
     "name": "#%%\n"
    }
   }
  },
  {
   "cell_type": "markdown",
   "source": [
    "Process test data"
   ],
   "metadata": {
    "collapsed": false,
    "pycharm": {
     "name": "#%% md\n"
    }
   }
  },
  {
   "cell_type": "code",
   "execution_count": null,
   "outputs": [],
   "source": [
    "test_labels = []\n",
    "test_features = []\n",
    "# Extract features for test dataset\n",
    "test_batch_size = 200\n",
    "num_batches = len(test) // test_batch_size\n",
    "\n",
    "for i in range(num_batches):\n",
    "    print('Begin processing for test batch ' + str(i) + ' - ' + str(datetime.now()))\n",
    "    test_batch_data = test[i * test_batch_size : (i + 1) * test_batch_size]['text']\n",
    "    test_batch_labels = test[i * test_batch_size : (i + 1) * test_batch_size]['label']\n",
    "    test_labels.extend(test_batch_labels)\n",
    "    test_batch_inputs = []\n",
    "    test_batch_masks = []\n",
    "    for text in test_batch_data:\n",
    "        input_ids, attention_mask = preprocess_text(text)\n",
    "        test_batch_inputs.append(input_ids)\n",
    "        test_batch_masks.append(attention_mask)\n",
    "    test_batch_inputs = torch.cat(test_batch_inputs, dim=0)\n",
    "    test_batch_masks = torch.cat(test_batch_masks, dim=0)\n",
    "    print(i)\n",
    "    pooled_output = extract_features(test_batch_inputs, test_batch_masks)\n",
    "    test_features.append(pooled_output)\n",
    "    print('End processing for test batch ' + str(i) + ' - ' + str(datetime.now()))\n",
    "\n",
    "test_labels = torch.tensor(test_labels)\n",
    "all_test_features = np.concatenate(test_features, axis=0)\n",
    "\n",
    "# save the extracted test features and test labels for later use\n",
    "np.save('models/test_features-2.npy', all_test_features)\n",
    "np.save('models/test_labels-2.npy', test_labels)"
   ],
   "metadata": {
    "collapsed": false,
    "pycharm": {
     "name": "#%%\n"
    }
   }
  },
  {
   "cell_type": "markdown",
   "source": [
    "Predict for the test set"
   ],
   "metadata": {
    "collapsed": false,
    "pycharm": {
     "name": "#%% md\n"
    }
   }
  },
  {
   "cell_type": "code",
   "execution_count": null,
   "outputs": [],
   "source": [
    "from sklearn.metrics import classification_report\n",
    "# load the test features and labels\n",
    "all_test_features = np.load('models/test_features-2.npy')\n",
    "test_labels = np.load('models/test_labels-2.npy')\n",
    "print('Begin prediction' + ' - ' + str(datetime.now()))\n",
    "loaded_svm_classifier = joblib.load('models/model-3.pkl')\n",
    "predictions = loaded_svm_classifier.predict(all_test_features)\n",
    "print('Finish prediction' + ' - ' + str(datetime.now()))\n",
    "report = classification_report(test_labels, predictions)\n",
    "print(report)"
   ],
   "metadata": {
    "collapsed": false,
    "pycharm": {
     "name": "#%%\n"
    }
   }
  },
  {
   "cell_type": "code",
   "execution_count": null,
   "outputs": [],
   "source": [
    "test_case1 = 'i do feel completely isolated'\n",
    "loaded_svm_classifier = joblib.load('models/model-7-over.pkl')\n",
    "input_ids, attention_mask = preprocess_text(test_case1)\n",
    "test_features = extract_features(input_ids, attention_mask)\n",
    "prediction = loaded_svm_classifier.predict(test_features)\n",
    "print(\"Prediction: \", prediction)"
   ],
   "metadata": {
    "collapsed": false,
    "pycharm": {
     "name": "#%%\n"
    }
   }
  },
  {
   "cell_type": "code",
   "execution_count": null,
   "outputs": [],
   "source": [],
   "metadata": {
    "collapsed": false
   }
  }
 ],
 "metadata": {
  "kernelspec": {
   "display_name": "Python 3",
   "language": "python",
   "name": "python3"
  },
  "language_info": {
   "codemirror_mode": {
    "name": "ipython",
    "version": 2
   },
   "file_extension": ".py",
   "mimetype": "text/x-python",
   "name": "python",
   "nbconvert_exporter": "python",
   "pygments_lexer": "ipython2",
   "version": "2.7.6"
  }
 },
 "nbformat": 4,
 "nbformat_minor": 0
}
