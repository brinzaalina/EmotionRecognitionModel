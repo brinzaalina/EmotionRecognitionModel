{
 "cells": [
  {
   "cell_type": "markdown",
   "source": [
    ";Load data from the data set into test, training and validation sets"
   ],
   "metadata": {
    "collapsed": false,
    "pycharm": {
     "name": "#%% md\n"
    }
   }
  },
  {
   "cell_type": "code",
   "execution_count": 1,
   "outputs": [
    {
     "name": "stdout",
     "output_type": "stream",
     "text": [
      "Dataset information: \n",
      "Training data: (16000, 2)\n",
      "Validation data: (2000, 2)\n",
      "Test data: (2000, 2)\n"
     ]
    }
   ],
   "source": [
    "import pandas as pd\n",
    "import numpy as np\n",
    "import torch\n",
    "from datetime import datetime\n",
    "\n",
    "test = pd.read_csv(\"datasets/test.csv\")\n",
    "training = pd.read_csv(\"datasets/training.csv\")\n",
    "validation = pd.read_csv(\"datasets/validation.csv\")\n",
    "\n",
    "print(\"Dataset information: \")\n",
    "print(f'Training data: {training.shape}')\n",
    "print(f'Validation data: {validation.shape}')\n",
    "print(f'Test data: {test.shape}')"
   ],
   "metadata": {
    "collapsed": false,
    "ExecuteTime": {
     "end_time": "2023-06-11T14:02:33.905043700Z",
     "start_time": "2023-06-11T14:02:26.635432900Z"
    }
   }
  },
  {
   "cell_type": "markdown",
   "source": [
    "Load tokenizer, model and create functions needed to process text"
   ],
   "metadata": {
    "collapsed": false
   }
  },
  {
   "cell_type": "code",
   "execution_count": 2,
   "outputs": [
    {
     "name": "stderr",
     "output_type": "stream",
     "text": [
      "Some weights of the model checkpoint at distilbert-base-cased were not used when initializing DistilBertModel: ['vocab_layer_norm.weight', 'vocab_projector.bias', 'vocab_transform.weight', 'vocab_layer_norm.bias', 'vocab_transform.bias', 'vocab_projector.weight']\n",
      "- This IS expected if you are initializing DistilBertModel from the checkpoint of a model trained on another task or with another architecture (e.g. initializing a BertForSequenceClassification model from a BertForPreTraining model).\n",
      "- This IS NOT expected if you are initializing DistilBertModel from the checkpoint of a model that you expect to be exactly identical (initializing a BertForSequenceClassification model from a BertForSequenceClassification model).\n"
     ]
    }
   ],
   "source": [
    "import nltk as nltk\n",
    "import string\n",
    "from nltk.corpus import stopwords\n",
    "import re\n",
    "from transformers import DistilBertTokenizer, DistilBertModel\n",
    "\n",
    "tokenizer = DistilBertTokenizer.from_pretrained('distilbert-base-cased')\n",
    "# Load BERT model\n",
    "model = DistilBertModel.from_pretrained('distilbert-base-cased')\n",
    "\n",
    "\n",
    "def preprocess_text(text):\n",
    "    # remove links\n",
    "    text = re.sub(r\"http\\S+|www\\S+|https\\S+\", \"\", text)\n",
    "    # remove html tags\n",
    "    text = re.sub(r'<.*?>','',text)\n",
    "    # remove special characters\n",
    "    text = text.translate(str.maketrans('', '', string.punctuation))\n",
    "\n",
    "    encoded_input = tokenizer.encode_plus(\n",
    "        text,\n",
    "        add_special_tokens=False,\n",
    "        max_length=512,\n",
    "        padding='max_length',\n",
    "        truncation=True,\n",
    "        return_tensors='pt'\n",
    "    )\n",
    "\n",
    "    return encoded_input['input_ids'], encoded_input['attention_mask']\n",
    "\n",
    "def extract_features(inputs, masks):\n",
    "    print('Extract features' + ' - ' + str(datetime.now()))\n",
    "    with torch.no_grad():\n",
    "        outputs = model(inputs, attention_mask=masks)\n",
    "        pooled_output = outputs[0][:, 0, :]\n",
    "    print('Finish extract features' + ' - ' + str(datetime.now()))\n",
    "    return pooled_output.numpy()"
   ],
   "metadata": {
    "collapsed": false,
    "pycharm": {
     "name": "#%%\n"
    },
    "ExecuteTime": {
     "end_time": "2023-06-11T14:02:42.358818600Z",
     "start_time": "2023-06-11T14:02:33.911009600Z"
    }
   }
  },
  {
   "cell_type": "markdown",
   "source": [
    "Perform batch text preprocessing"
   ],
   "metadata": {
    "collapsed": false,
    "pycharm": {
     "name": "#%% md\n"
    }
   }
  },
  {
   "cell_type": "code",
   "execution_count": 3,
   "outputs": [
    {
     "name": "stdout",
     "output_type": "stream",
     "text": [
      "Begin preprocess batch 0 - 2023-06-11 17:02:42.291819\n",
      "Extract features - 2023-06-11 17:02:42.694857\n",
      "Finish extract features - 2023-06-11 17:07:26.016704\n",
      "Finish preprocess batch 0 - 2023-06-11 17:07:26.020704\n",
      "Begin preprocess batch 1 - 2023-06-11 17:07:26.020704\n",
      "Extract features - 2023-06-11 17:07:26.342704\n",
      "Finish extract features - 2023-06-11 17:12:01.155823\n",
      "Finish preprocess batch 1 - 2023-06-11 17:12:01.156823\n",
      "Begin preprocess batch 2 - 2023-06-11 17:12:01.156823\n",
      "Extract features - 2023-06-11 17:12:01.502823\n",
      "Finish extract features - 2023-06-11 17:16:40.379947\n",
      "Finish preprocess batch 2 - 2023-06-11 17:16:40.380943\n",
      "Begin preprocess batch 3 - 2023-06-11 17:16:40.380943\n",
      "Extract features - 2023-06-11 17:16:40.715906\n",
      "Finish extract features - 2023-06-11 17:21:20.208030\n",
      "Finish preprocess batch 3 - 2023-06-11 17:21:20.209030\n",
      "Begin preprocess batch 4 - 2023-06-11 17:21:20.209030\n",
      "Extract features - 2023-06-11 17:21:20.568030\n",
      "Finish extract features - 2023-06-11 17:26:12.177842\n",
      "Finish preprocess batch 4 - 2023-06-11 17:26:12.178842\n",
      "Begin preprocess batch 5 - 2023-06-11 17:26:12.178842\n",
      "Extract features - 2023-06-11 17:26:12.542842\n",
      "Finish extract features - 2023-06-11 17:30:47.996660\n",
      "Finish preprocess batch 5 - 2023-06-11 17:30:47.996660\n",
      "Begin preprocess batch 6 - 2023-06-11 17:30:47.996660\n",
      "Extract features - 2023-06-11 17:30:48.360658\n",
      "Finish extract features - 2023-06-11 17:35:20.539212\n",
      "Finish preprocess batch 6 - 2023-06-11 17:35:20.540211\n",
      "Begin preprocess batch 7 - 2023-06-11 17:35:20.540211\n",
      "Extract features - 2023-06-11 17:35:20.880249\n",
      "Finish extract features - 2023-06-11 17:39:54.054242\n",
      "Finish preprocess batch 7 - 2023-06-11 17:39:54.054242\n",
      "Begin preprocess batch 8 - 2023-06-11 17:39:54.054242\n",
      "Extract features - 2023-06-11 17:39:54.412281\n",
      "Finish extract features - 2023-06-11 17:44:26.380318\n",
      "Finish preprocess batch 8 - 2023-06-11 17:44:26.381318\n",
      "Begin preprocess batch 9 - 2023-06-11 17:44:26.381318\n",
      "Extract features - 2023-06-11 17:44:26.706319\n",
      "Finish extract features - 2023-06-11 17:48:58.787960\n",
      "Finish preprocess batch 9 - 2023-06-11 17:48:58.787960\n",
      "Begin preprocess batch 10 - 2023-06-11 17:48:58.787960\n",
      "Extract features - 2023-06-11 17:48:59.126956\n",
      "Finish extract features - 2023-06-11 17:53:29.808999\n",
      "Finish preprocess batch 10 - 2023-06-11 17:53:29.808999\n",
      "Begin preprocess batch 11 - 2023-06-11 17:53:29.808999\n",
      "Extract features - 2023-06-11 17:53:30.141001\n",
      "Finish extract features - 2023-06-11 17:58:01.657039\n",
      "Finish preprocess batch 11 - 2023-06-11 17:58:01.657039\n",
      "Begin preprocess batch 12 - 2023-06-11 17:58:01.657039\n",
      "Extract features - 2023-06-11 17:58:02.000043\n",
      "Finish extract features - 2023-06-11 18:02:35.599186\n",
      "Finish preprocess batch 12 - 2023-06-11 18:02:35.599186\n",
      "Begin preprocess batch 13 - 2023-06-11 18:02:35.599186\n",
      "Extract features - 2023-06-11 18:02:35.925224\n",
      "Finish extract features - 2023-06-11 18:07:09.186953\n",
      "Finish preprocess batch 13 - 2023-06-11 18:07:09.187949\n",
      "Begin preprocess batch 14 - 2023-06-11 18:07:09.187949\n",
      "Extract features - 2023-06-11 18:07:09.518949\n",
      "Finish extract features - 2023-06-11 18:11:41.545988\n",
      "Finish preprocess batch 14 - 2023-06-11 18:11:41.545988\n",
      "Begin preprocess batch 15 - 2023-06-11 18:11:41.545988\n",
      "Extract features - 2023-06-11 18:11:41.891988\n",
      "Finish extract features - 2023-06-11 18:16:17.090057\n",
      "Finish preprocess batch 15 - 2023-06-11 18:16:17.091057\n",
      "Begin preprocess batch 16 - 2023-06-11 18:16:17.091057\n",
      "Extract features - 2023-06-11 18:16:17.436062\n",
      "Finish extract features - 2023-06-11 18:20:52.860136\n",
      "Finish preprocess batch 16 - 2023-06-11 18:20:52.860136\n",
      "Begin preprocess batch 17 - 2023-06-11 18:20:52.860136\n",
      "Extract features - 2023-06-11 18:20:53.220095\n",
      "Finish extract features - 2023-06-11 18:25:25.124613\n",
      "Finish preprocess batch 17 - 2023-06-11 18:25:25.124613\n",
      "Begin preprocess batch 18 - 2023-06-11 18:25:25.124613\n",
      "Extract features - 2023-06-11 18:25:25.455615\n",
      "Finish extract features - 2023-06-11 18:29:59.821614\n",
      "Finish preprocess batch 18 - 2023-06-11 18:29:59.821614\n",
      "Begin preprocess batch 19 - 2023-06-11 18:29:59.821614\n",
      "Extract features - 2023-06-11 18:30:00.199654\n",
      "Finish extract features - 2023-06-11 18:34:32.436295\n",
      "Finish preprocess batch 19 - 2023-06-11 18:34:32.437295\n",
      "Begin preprocess batch 20 - 2023-06-11 18:34:32.437295\n",
      "Extract features - 2023-06-11 18:34:32.768296\n",
      "Finish extract features - 2023-06-11 18:39:05.624631\n",
      "Finish preprocess batch 20 - 2023-06-11 18:39:05.624631\n",
      "Begin preprocess batch 21 - 2023-06-11 18:39:05.624631\n",
      "Extract features - 2023-06-11 18:39:05.958691\n",
      "Finish extract features - 2023-06-11 18:43:38.115121\n",
      "Finish preprocess batch 21 - 2023-06-11 18:43:38.116121\n",
      "Begin preprocess batch 22 - 2023-06-11 18:43:38.116121\n",
      "Extract features - 2023-06-11 18:43:38.447162\n",
      "Finish extract features - 2023-06-11 18:48:09.484259\n",
      "Finish preprocess batch 22 - 2023-06-11 18:48:09.485258\n",
      "Begin preprocess batch 23 - 2023-06-11 18:48:09.485258\n",
      "Extract features - 2023-06-11 18:48:09.814299\n",
      "Finish extract features - 2023-06-11 18:52:42.823859\n",
      "Finish preprocess batch 23 - 2023-06-11 18:52:42.823859\n",
      "Begin preprocess batch 24 - 2023-06-11 18:52:42.823859\n",
      "Extract features - 2023-06-11 18:52:43.147856\n",
      "Finish extract features - 2023-06-11 18:57:24.075492\n",
      "Finish preprocess batch 24 - 2023-06-11 18:57:24.075492\n",
      "Begin preprocess batch 25 - 2023-06-11 18:57:24.075492\n",
      "Extract features - 2023-06-11 18:57:24.419526\n",
      "Finish extract features - 2023-06-11 19:02:28.689218\n",
      "Finish preprocess batch 25 - 2023-06-11 19:02:28.692216\n",
      "Begin preprocess batch 26 - 2023-06-11 19:02:28.692216\n",
      "Extract features - 2023-06-11 19:02:29.033217\n",
      "Finish extract features - 2023-06-11 19:07:24.492996\n",
      "Finish preprocess batch 26 - 2023-06-11 19:07:24.492996\n",
      "Begin preprocess batch 27 - 2023-06-11 19:07:24.492996\n",
      "Extract features - 2023-06-11 19:07:24.823037\n",
      "Finish extract features - 2023-06-11 19:12:03.005632\n",
      "Finish preprocess batch 27 - 2023-06-11 19:12:03.005632\n",
      "Begin preprocess batch 28 - 2023-06-11 19:12:03.005632\n",
      "Extract features - 2023-06-11 19:12:03.336627\n",
      "Finish extract features - 2023-06-11 19:16:44.535701\n",
      "Finish preprocess batch 28 - 2023-06-11 19:16:44.536701\n",
      "Begin preprocess batch 29 - 2023-06-11 19:16:44.536701\n",
      "Extract features - 2023-06-11 19:16:44.869702\n",
      "Finish extract features - 2023-06-11 19:21:49.136131\n",
      "Finish preprocess batch 29 - 2023-06-11 19:21:49.136131\n",
      "Begin preprocess batch 30 - 2023-06-11 19:21:49.136131\n",
      "Extract features - 2023-06-11 19:21:49.540091\n",
      "Finish extract features - 2023-06-11 19:27:33.649856\n",
      "Finish preprocess batch 30 - 2023-06-11 19:27:33.649856\n",
      "Begin preprocess batch 31 - 2023-06-11 19:27:33.649856\n",
      "Extract features - 2023-06-11 19:27:34.002895\n",
      "Finish extract features - 2023-06-11 19:33:22.192494\n",
      "Finish preprocess batch 31 - 2023-06-11 19:33:22.192494\n"
     ]
    }
   ],
   "source": [
    "# Preprocess training dataset\n",
    "batch_size = 500\n",
    "num_batches = len(training) // batch_size\n",
    "training_features = []\n",
    "for i in range(num_batches):\n",
    "    print('Begin preprocess batch ' + str(i) + ' - ' + str(datetime.now()))\n",
    "    # Get the current batch\n",
    "    batch_data = training[i * batch_size : (i + 1) * batch_size]['text']\n",
    "    batch_labels = training[i * batch_size : (i + 1) * batch_size]['label']\n",
    "\n",
    "    # Preprocess the input text using DistilBERT for the current batch\n",
    "    batch_inputs = []\n",
    "    batch_masks = []\n",
    "    for text in batch_data:\n",
    "        input_ids, attention_mask = preprocess_text(text)\n",
    "        batch_inputs.append(input_ids)\n",
    "        batch_masks.append(attention_mask)\n",
    "\n",
    "    batch_inputs = torch.cat(batch_inputs, dim=0)\n",
    "    batch_masks = torch.cat(batch_masks, dim=0)\n",
    "\n",
    "    pooled_output = extract_features(batch_inputs, batch_masks)\n",
    "    training_features.append(pooled_output)\n",
    "    print('Finish preprocess batch ' + str(i) + ' - ' + str(datetime.now()))\n",
    "# obtain final features and labels\n",
    "training_features = np.concatenate(training_features, axis=0)\n",
    "training_labels = training['label'].values[:training_features.shape[0]]\n",
    "\n",
    "# save the features and labels\n",
    "np.save('models/training_features-2.npy', training_features)\n",
    "np.save('models/training_labels-2.npy', training_labels)"
   ],
   "metadata": {
    "collapsed": false,
    "ExecuteTime": {
     "end_time": "2023-06-11T16:33:32.393767600Z",
     "start_time": "2023-06-11T14:02:42.292818600Z"
    }
   }
  },
  {
   "cell_type": "markdown",
   "source": [
    "Choose a suitable subset of the training data to find the best parameters for the SVM model"
   ],
   "metadata": {
    "collapsed": false,
    "pycharm": {
     "name": "#%% md\n"
    }
   }
  },
  {
   "cell_type": "code",
   "execution_count": 4,
   "outputs": [
    {
     "name": "stdout",
     "output_type": "stream",
     "text": [
      "Class distribution of the entire training set:  [4666 5362 1304 2159 1937  572]\n",
      "Class distribution of the subset:  [ 919 1096  278  412  380  115]\n"
     ]
    },
    {
     "data": {
      "text/plain": "<Figure size 640x480 with 1 Axes>",
      "image/png": "[encoded data removed]"
     },
     "metadata": {},
     "output_type": "display_data"
    }
   ],
   "source": [
    "from sklearn.svm import SVC\n",
    "\n",
    "# load the training features and labels\n",
    "training_features = np.load('models/training_features-2.npy')\n",
    "training_labels = np.load('models/training_labels-2.npy')\n",
    "\n",
    "subset_size = 0.2\n",
    "# split the training data into a subset and the remaining data\n",
    "subset_indices = np.random.choice(len(training_features), int(subset_size * len(training_features)), replace=False)\n",
    "subset_features = training_features[subset_indices]\n",
    "\n",
    "# compute the class distribution of the subset\n",
    "subset_labels = training_labels[subset_indices]\n",
    "subset_class_distribution = np.bincount(subset_labels)\n",
    "\n",
    "# compute the class distribution of the entire training set\n",
    "training_class_distribution = np.bincount(training_labels)\n",
    "\n",
    "# compare the class distributions\n",
    "print('Class distribution of the entire training set: ', training_class_distribution)\n",
    "print('Class distribution of the subset: ', subset_class_distribution)\n",
    "\n",
    "# visualize plots of the class distributions\n",
    "import matplotlib.pyplot as plt\n",
    "plt.bar(np.arange(len(training_class_distribution)), training_class_distribution, label='Training set')\n",
    "plt.bar(np.arange(len(subset_class_distribution)), subset_class_distribution, label='Subset')\n",
    "plt.legend()\n",
    "plt.show()\n"
   ],
   "metadata": {
    "collapsed": false,
    "ExecuteTime": {
     "end_time": "2023-06-11T16:33:34.598601Z",
     "start_time": "2023-06-11T16:33:32.509597500Z"
    }
   }
  },
  {
   "cell_type": "markdown",
   "source": [
    "Perform grid search to find the best parameters for the SVM model"
   ],
   "metadata": {
    "collapsed": false
   }
  },
  {
   "cell_type": "code",
   "execution_count": 12,
   "outputs": [
    {
     "name": "stdout",
     "output_type": "stream",
     "text": [
      "Begin grid search - 2023-06-11 20:30:29.905961\n",
      "Training final SVM model - 2023-06-11 20:30:29.916960\n",
      "Finished training final SVM model - 2023-06-11 20:48:26.723315\n",
      "Best hyperparameters:  {'C': 75, 'gamma': 'auto', 'kernel': 'rbf'}\n"
     ]
    }
   ],
   "source": [
    "# SVM classification\n",
    "parameters = {\n",
    "    'C': [ 1, 10, 50, 75],\n",
    "    'gamma': [1, 0.01, 0.001 , 'scale'],\n",
    "    'kernel': ['linear', 'rbf', 'poly']\n",
    "}\n",
    "# Construct the final SVM\n",
    "final_svm_classifier = SVC()\n",
    "# Perform grid search to find the best parameters\n",
    "from sklearn.model_selection import GridSearchCV\n",
    "print('Begin grid search' + ' - ' + str(datetime.now()))\n",
    "grid_search = GridSearchCV(final_svm_classifier, parameters, cv=5)\n",
    "print('Training final SVM model' + ' - ' + str(datetime.now()))\n",
    "grid_search.fit(subset_features, subset_labels)\n",
    "print('Finished training final SVM model' + ' - ' + str(datetime.now()))\n",
    "print('Best hyperparameters: ', grid_search.best_params_)\n"
   ],
   "metadata": {
    "collapsed": false,
    "ExecuteTime": {
     "end_time": "2023-06-11T17:48:26.732668100Z",
     "start_time": "2023-06-11T17:30:29.908923800Z"
    }
   }
  },
  {
   "cell_type": "markdown",
   "source": [
    "Train the final SVM model with the best parameters"
   ],
   "metadata": {
    "collapsed": false
   }
  },
  {
   "cell_type": "code",
   "execution_count": 13,
   "outputs": [
    {
     "name": "stdout",
     "output_type": "stream",
     "text": [
      "Begin training final SVM model - 2023-06-11 20:48:51.151159\n",
      "Finished training final SVM model - 2023-06-11 20:51:05.581453\n"
     ]
    }
   ],
   "source": [
    "import joblib\n",
    "# Use the best model for prediction\n",
    "final_svm_classifier = grid_search.best_estimator_\n",
    "# use the already existing model\n",
    "print('Begin training final SVM model' + ' - ' + str(datetime.now()))\n",
    "final_svm_classifier.fit(training_features, training_labels)\n",
    "print('Finished training final SVM model' + ' - ' + str(datetime.now()))"
   ],
   "metadata": {
    "collapsed": false,
    "ExecuteTime": {
     "end_time": "2023-06-11T17:51:05.586215100Z",
     "start_time": "2023-06-11T17:48:51.150158900Z"
    }
   }
  },
  {
   "cell_type": "markdown",
   "source": [
    "Save the generated model for later use"
   ],
   "metadata": {
    "collapsed": false,
    "pycharm": {
     "name": "#%% md\n"
    }
   }
  },
  {
   "cell_type": "code",
   "execution_count": 14,
   "outputs": [
    {
     "data": {
      "text/plain": "['models/model-4.pkl']"
     },
     "execution_count": 14,
     "metadata": {},
     "output_type": "execute_result"
    }
   ],
   "source": [
    "# Save generated SVM model\n",
    "import joblib\n",
    "joblib.dump(final_svm_classifier, 'models/model-4.pkl')"
   ],
   "metadata": {
    "collapsed": false,
    "pycharm": {
     "name": "#%%\n"
    },
    "ExecuteTime": {
     "end_time": "2023-06-11T17:51:13.976236400Z",
     "start_time": "2023-06-11T17:51:13.911680Z"
    }
   }
  },
  {
   "cell_type": "markdown",
   "source": [
    "Process test data"
   ],
   "metadata": {
    "collapsed": false,
    "pycharm": {
     "name": "#%% md\n"
    }
   }
  },
  {
   "cell_type": "code",
   "execution_count": 8,
   "outputs": [
    {
     "name": "stdout",
     "output_type": "stream",
     "text": [
      "Begin processing for test batch 0 - 2023-06-11 19:51:52.708518\n",
      "0\n",
      "Extract features - 2023-06-11 19:51:52.863556\n",
      "Finish extract features - 2023-06-11 19:54:06.856062\n",
      "End processing for test batch 0 - 2023-06-11 19:54:06.971058\n",
      "Begin processing for test batch 1 - 2023-06-11 19:54:06.971058\n",
      "1\n",
      "Extract features - 2023-06-11 19:54:07.119027\n",
      "Finish extract features - 2023-06-11 19:56:21.689654\n",
      "End processing for test batch 1 - 2023-06-11 19:56:21.689654\n",
      "Begin processing for test batch 2 - 2023-06-11 19:56:21.689654\n",
      "2\n",
      "Extract features - 2023-06-11 19:56:21.860682\n",
      "Finish extract features - 2023-06-11 19:58:35.582044\n",
      "End processing for test batch 2 - 2023-06-11 19:58:35.583043\n",
      "Begin processing for test batch 3 - 2023-06-11 19:58:35.583043\n",
      "3\n",
      "Extract features - 2023-06-11 19:58:35.764045\n",
      "Finish extract features - 2023-06-11 20:00:50.164167\n",
      "End processing for test batch 3 - 2023-06-11 20:00:50.165165\n",
      "Begin processing for test batch 4 - 2023-06-11 20:00:50.165165\n",
      "4\n",
      "Extract features - 2023-06-11 20:00:50.364178\n",
      "Finish extract features - 2023-06-11 20:03:04.244132\n",
      "End processing for test batch 4 - 2023-06-11 20:03:04.245132\n",
      "Begin processing for test batch 5 - 2023-06-11 20:03:04.245132\n",
      "5\n",
      "Extract features - 2023-06-11 20:03:04.399170\n",
      "Finish extract features - 2023-06-11 20:05:17.806376\n",
      "End processing for test batch 5 - 2023-06-11 20:05:17.806376\n",
      "Begin processing for test batch 6 - 2023-06-11 20:05:17.806376\n",
      "6\n",
      "Extract features - 2023-06-11 20:05:17.986978\n",
      "Finish extract features - 2023-06-11 20:07:31.522248\n",
      "End processing for test batch 6 - 2023-06-11 20:07:31.523249\n",
      "Begin processing for test batch 7 - 2023-06-11 20:07:31.523249\n",
      "7\n",
      "Extract features - 2023-06-11 20:07:31.731258\n",
      "Finish extract features - 2023-06-11 20:09:45.945543\n",
      "End processing for test batch 7 - 2023-06-11 20:09:45.946543\n",
      "Begin processing for test batch 8 - 2023-06-11 20:09:45.946543\n",
      "8\n",
      "Extract features - 2023-06-11 20:09:46.125547\n",
      "Finish extract features - 2023-06-11 20:11:46.808160\n",
      "End processing for test batch 8 - 2023-06-11 20:11:46.809157\n",
      "Begin processing for test batch 9 - 2023-06-11 20:11:46.809157\n",
      "9\n",
      "Extract features - 2023-06-11 20:11:46.965163\n",
      "Finish extract features - 2023-06-11 20:13:46.549239\n",
      "End processing for test batch 9 - 2023-06-11 20:13:46.550237\n"
     ]
    }
   ],
   "source": [
    "test_labels = []\n",
    "test_features = []\n",
    "# Extract features for test dataset\n",
    "test_batch_size = 200\n",
    "num_batches = len(test) // test_batch_size\n",
    "\n",
    "for i in range(num_batches):\n",
    "    print('Begin processing for test batch ' + str(i) + ' - ' + str(datetime.now()))\n",
    "    test_batch_data = test[i * test_batch_size : (i + 1) * test_batch_size]['text']\n",
    "    test_batch_labels = test[i * test_batch_size : (i + 1) * test_batch_size]['label']\n",
    "    test_labels.extend(test_batch_labels)\n",
    "    test_batch_inputs = []\n",
    "    test_batch_masks = []\n",
    "    for text in test_batch_data:\n",
    "        input_ids, attention_mask = preprocess_text(text)\n",
    "        test_batch_inputs.append(input_ids)\n",
    "        test_batch_masks.append(attention_mask)\n",
    "    test_batch_inputs = torch.cat(test_batch_inputs, dim=0)\n",
    "    test_batch_masks = torch.cat(test_batch_masks, dim=0)\n",
    "    print(i)\n",
    "    pooled_output = extract_features(test_batch_inputs, test_batch_masks)\n",
    "    test_features.append(pooled_output)\n",
    "    print('End processing for test batch ' + str(i) + ' - ' + str(datetime.now()))\n",
    "\n",
    "test_labels = torch.tensor(test_labels)\n",
    "all_test_features = np.concatenate(test_features, axis=0)"
   ],
   "metadata": {
    "collapsed": false,
    "pycharm": {
     "name": "#%%\n"
    },
    "ExecuteTime": {
     "end_time": "2023-06-11T17:13:46.563105700Z",
     "start_time": "2023-06-11T16:51:52.702555500Z"
    }
   }
  },
  {
   "cell_type": "code",
   "execution_count": 9,
   "outputs": [],
   "source": [
    "# save the extracted test features and test labels for later use\n",
    "np.save('models/test_features-2.npy', all_test_features)\n",
    "np.save('models/test_labels-2.npy', test_labels)"
   ],
   "metadata": {
    "collapsed": false,
    "ExecuteTime": {
     "end_time": "2023-06-11T17:13:46.578889700Z",
     "start_time": "2023-06-11T17:13:46.568105400Z"
    }
   }
  },
  {
   "cell_type": "markdown",
   "source": [
    "Predict for the test set"
   ],
   "metadata": {
    "collapsed": false,
    "pycharm": {
     "name": "#%% md\n"
    }
   }
  },
  {
   "cell_type": "code",
   "execution_count": 15,
   "outputs": [
    {
     "name": "stdout",
     "output_type": "stream",
     "text": [
      "Begin prediction - 2023-06-11 20:51:23.056451\n",
      "Finish prediction - 2023-06-11 20:51:44.260487\n",
      "              precision    recall  f1-score   support\n",
      "\n",
      "           0       0.61      0.72      0.66       581\n",
      "           1       0.67      0.84      0.75       695\n",
      "           2       0.46      0.18      0.25       159\n",
      "           3       0.59      0.37      0.45       275\n",
      "           4       0.58      0.46      0.51       224\n",
      "           5       0.58      0.27      0.37        66\n",
      "\n",
      "    accuracy                           0.63      2000\n",
      "   macro avg       0.58      0.47      0.50      2000\n",
      "weighted avg       0.61      0.63      0.60      2000\n",
      "\n"
     ]
    }
   ],
   "source": [
    "from sklearn.metrics import classification_report\n",
    "# load the test features and labels\n",
    "all_test_features = np.load('models/test_features-2.npy')\n",
    "test_labels = np.load('models/test_labels-2.npy')\n",
    "print('Begin prediction' + ' - ' + str(datetime.now()))\n",
    "loaded_svm_classifier = joblib.load('models/model-4.pkl')\n",
    "predictions = loaded_svm_classifier.predict(all_test_features)\n",
    "print('Finish prediction' + ' - ' + str(datetime.now()))\n",
    "report = classification_report(test_labels, predictions)\n",
    "print(report)"
   ],
   "metadata": {
    "collapsed": false,
    "pycharm": {
     "name": "#%%\n"
    },
    "ExecuteTime": {
     "end_time": "2023-06-11T17:51:44.278066700Z",
     "start_time": "2023-06-11T17:51:23.052452600Z"
    }
   }
  },
  {
   "cell_type": "code",
   "execution_count": 29,
   "outputs": [
    {
     "name": "stdout",
     "output_type": "stream",
     "text": [
      "Extract features - 2023-06-11 23:06:36.594557\n",
      "Finish extract features - 2023-06-11 23:06:38.087558\n",
      "Prediction:  [1]\n"
     ]
    }
   ],
   "source": [
    "test_case1 = 'i hope that you realize how such little effort is required to make a person feel better about themselves or their situation whether its me a family member a college or high school friend a neighbor down the street or even a complete stranger'\n",
    "loaded_svm_classifier = joblib.load('models/model-4.pkl')\n",
    "input_ids, attention_mask = preprocess_text(test_case1)\n",
    "test_features = extract_features(input_ids, attention_mask)\n",
    "prediction = loaded_svm_classifier.predict(test_features)\n",
    "print(\"Prediction: \", prediction)"
   ],
   "metadata": {
    "collapsed": false,
    "pycharm": {
     "name": "#%%\n"
    },
    "ExecuteTime": {
     "end_time": "2023-06-11T20:06:38.117080600Z",
     "start_time": "2023-06-11T20:06:36.497559800Z"
    }
   }
  },
  {
   "cell_type": "code",
   "execution_count": 24,
   "outputs": [
    {
     "name": "stdout",
     "output_type": "stream",
     "text": [
      "Begin processing for validation batch 0 - 2023-06-11 21:08:32.536211\n",
      "0\n",
      "Extract features - 2023-06-11 21:08:32.673212\n",
      "Finish extract features - 2023-06-11 21:10:33.760207\n",
      "End processing for validation batch 0 - 2023-06-11 21:10:33.796209\n",
      "Begin processing for validation batch 1 - 2023-06-11 21:10:33.796209\n",
      "1\n",
      "Extract features - 2023-06-11 21:10:33.937253\n",
      "Finish extract features - 2023-06-11 21:12:38.172727\n",
      "End processing for validation batch 1 - 2023-06-11 21:12:38.172727\n",
      "Begin processing for validation batch 2 - 2023-06-11 21:12:38.172727\n",
      "2\n",
      "Extract features - 2023-06-11 21:12:38.339767\n",
      "Finish extract features - 2023-06-11 21:14:31.856758\n",
      "End processing for validation batch 2 - 2023-06-11 21:14:31.857759\n",
      "Begin processing for validation batch 3 - 2023-06-11 21:14:31.857759\n",
      "3\n",
      "Extract features - 2023-06-11 21:14:31.995764\n",
      "Finish extract features - 2023-06-11 21:16:25.898796\n",
      "End processing for validation batch 3 - 2023-06-11 21:16:25.899792\n",
      "Begin processing for validation batch 4 - 2023-06-11 21:16:25.899792\n",
      "4\n",
      "Extract features - 2023-06-11 21:16:26.031831\n",
      "Finish extract features - 2023-06-11 21:18:19.454319\n",
      "End processing for validation batch 4 - 2023-06-11 21:18:19.454319\n",
      "Begin processing for validation batch 5 - 2023-06-11 21:18:19.454319\n",
      "5\n",
      "Extract features - 2023-06-11 21:18:19.585354\n",
      "Finish extract features - 2023-06-11 21:20:13.222350\n",
      "End processing for validation batch 5 - 2023-06-11 21:20:13.222350\n",
      "Begin processing for validation batch 6 - 2023-06-11 21:20:13.223320\n",
      "6\n",
      "Extract features - 2023-06-11 21:20:13.361360\n",
      "Finish extract features - 2023-06-11 21:22:06.640832\n",
      "End processing for validation batch 6 - 2023-06-11 21:22:06.640832\n",
      "Begin processing for validation batch 7 - 2023-06-11 21:22:06.640832\n",
      "7\n",
      "Extract features - 2023-06-11 21:22:06.769837\n",
      "Finish extract features - 2023-06-11 21:24:02.718541\n",
      "End processing for validation batch 7 - 2023-06-11 21:24:02.718541\n",
      "Begin processing for validation batch 8 - 2023-06-11 21:24:02.718541\n",
      "8\n",
      "Extract features - 2023-06-11 21:24:02.862539\n",
      "Finish extract features - 2023-06-11 21:26:08.237641\n",
      "End processing for validation batch 8 - 2023-06-11 21:26:08.237641\n",
      "Begin processing for validation batch 9 - 2023-06-11 21:26:08.237641\n",
      "9\n",
      "Extract features - 2023-06-11 21:26:08.395643\n",
      "Finish extract features - 2023-06-11 21:28:11.547803\n",
      "End processing for validation batch 9 - 2023-06-11 21:28:11.548803\n"
     ]
    }
   ],
   "source": [
    "validation_labels = []\n",
    "validation_features = []\n",
    "# Extract features for test dataset\n",
    "validation_batch_size = 200\n",
    "num_batches = len(test) // test_batch_size\n",
    "\n",
    "for i in range(num_batches):\n",
    "    print('Begin processing for validation batch ' + str(i) + ' - ' + str(datetime.now()))\n",
    "    validation_batch_data = test[i * test_batch_size : (i + 1) * test_batch_size]['text']\n",
    "    validation_batch_labels = test[i * test_batch_size : (i + 1) * test_batch_size]['label']\n",
    "    validation_labels.extend(validation_batch_labels)\n",
    "    validation_batch_inputs = []\n",
    "    validation_batch_masks = []\n",
    "    for text in validation_batch_data:\n",
    "        input_ids, attention_mask = preprocess_text(text)\n",
    "        validation_batch_inputs.append(input_ids)\n",
    "        validation_batch_masks.append(attention_mask)\n",
    "    validation_batch_inputs = torch.cat(validation_batch_inputs, dim=0)\n",
    "    validation_batch_masks = torch.cat(validation_batch_masks, dim=0)\n",
    "    print(i)\n",
    "    pooled_output = extract_features(validation_batch_inputs, validation_batch_masks)\n",
    "    validation_features.append(pooled_output)\n",
    "    print('End processing for validation batch ' + str(i) + ' - ' + str(datetime.now()))\n",
    "\n",
    "validation_labels = torch.tensor(validation_labels)\n",
    "all_validation_features = np.concatenate(validation_features, axis=0)"
   ],
   "metadata": {
    "collapsed": false,
    "ExecuteTime": {
     "end_time": "2023-06-11T18:28:11.577262700Z",
     "start_time": "2023-06-11T18:08:32.537209600Z"
    }
   }
  },
  {
   "cell_type": "code",
   "execution_count": 25,
   "outputs": [],
   "source": [
    "# save the extracted validation features and validation labels for later use\n",
    "np.save('models/validation_features.npy', all_validation_features)\n",
    "np.save('models/validation_labels.npy', validation_labels)"
   ],
   "metadata": {
    "collapsed": false,
    "ExecuteTime": {
     "end_time": "2023-06-11T18:35:22.800031900Z",
     "start_time": "2023-06-11T18:35:22.787207100Z"
    }
   }
  },
  {
   "cell_type": "code",
   "execution_count": 26,
   "outputs": [
    {
     "name": "stdout",
     "output_type": "stream",
     "text": [
      "Begin prediction - 2023-06-11 21:35:25.180981\n",
      "Finish prediction - 2023-06-11 21:35:46.083985\n",
      "              precision    recall  f1-score   support\n",
      "\n",
      "           0       0.61      0.72      0.66       581\n",
      "           1       0.67      0.84      0.75       695\n",
      "           2       0.46      0.18      0.25       159\n",
      "           3       0.59      0.37      0.45       275\n",
      "           4       0.58      0.46      0.51       224\n",
      "           5       0.58      0.27      0.37        66\n",
      "\n",
      "    accuracy                           0.63      2000\n",
      "   macro avg       0.58      0.47      0.50      2000\n",
      "weighted avg       0.61      0.63      0.60      2000\n",
      "\n"
     ]
    }
   ],
   "source": [
    "from sklearn.metrics import classification_report\n",
    "# load the test features and labels\n",
    "print('Begin prediction' + ' - ' + str(datetime.now()))\n",
    "loaded_svm_classifier = joblib.load('models/model-4.pkl')\n",
    "predictions = loaded_svm_classifier.predict(all_validation_features)\n",
    "print('Finish prediction' + ' - ' + str(datetime.now()))\n",
    "report = classification_report(validation_labels, predictions)\n",
    "print(report)"
   ],
   "metadata": {
    "collapsed": false,
    "ExecuteTime": {
     "end_time": "2023-06-11T18:35:46.111596500Z",
     "start_time": "2023-06-11T18:35:25.196980600Z"
    }
   }
  },
  {
   "cell_type": "code",
   "execution_count": 27,
   "outputs": [],
   "source": [
    "# combine the test and validation set\n",
    "all_test_val_features = np.concatenate((all_test_features, all_validation_features), axis=0)\n",
    "all_test_val_labels = np.concatenate((test_labels, validation_labels), axis=0)"
   ],
   "metadata": {
    "collapsed": false,
    "ExecuteTime": {
     "end_time": "2023-06-11T18:37:35.391934600Z",
     "start_time": "2023-06-11T18:37:35.379166800Z"
    }
   }
  },
  {
   "cell_type": "code",
   "execution_count": 28,
   "outputs": [
    {
     "name": "stdout",
     "output_type": "stream",
     "text": [
      "Begin prediction - 2023-06-11 21:37:38.247634\n",
      "Finish prediction - 2023-06-11 21:38:19.897181\n",
      "              precision    recall  f1-score   support\n",
      "\n",
      "           0       0.61      0.72      0.66      1162\n",
      "           1       0.67      0.84      0.75      1390\n",
      "           2       0.46      0.18      0.25       318\n",
      "           3       0.59      0.37      0.45       550\n",
      "           4       0.58      0.46      0.51       448\n",
      "           5       0.58      0.27      0.37       132\n",
      "\n",
      "    accuracy                           0.63      4000\n",
      "   macro avg       0.58      0.47      0.50      4000\n",
      "weighted avg       0.61      0.63      0.60      4000\n",
      "\n"
     ]
    }
   ],
   "source": [
    "# use the combined test and validation set to predict with the final model\n",
    "print('Begin prediction' + ' - ' + str(datetime.now()))\n",
    "loaded_svm_classifier = joblib.load('models/model-4.pkl')\n",
    "predictions = loaded_svm_classifier.predict(all_test_val_features)\n",
    "print('Finish prediction' + ' - ' + str(datetime.now()))\n",
    "report = classification_report(all_test_val_labels, predictions)\n",
    "print(report)"
   ],
   "metadata": {
    "collapsed": false,
    "ExecuteTime": {
     "end_time": "2023-06-11T18:38:19.919433200Z",
     "start_time": "2023-06-11T18:37:38.263638500Z"
    }
   }
  },
  {
   "cell_type": "code",
   "execution_count": null,
   "outputs": [],
   "source": [
    "\n"
   ],
   "metadata": {
    "collapsed": false
   }
  }
 ],
 "metadata": {
  "kernelspec": {
   "display_name": "Python 3",
   "language": "python",
   "name": "python3"
  },
  "language_info": {
   "codemirror_mode": {
    "name": "ipython",
    "version": 2
   },
   "file_extension": ".py",
   "mimetype": "text/x-python",
   "name": "python",
   "nbconvert_exporter": "python",
   "pygments_lexer": "ipython2",
   "version": "2.7.6"
  }
 },
 "nbformat": 4,
 "nbformat_minor": 0
}
