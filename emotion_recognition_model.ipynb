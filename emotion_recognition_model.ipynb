{
 "cells": [
  {
   "cell_type": "markdown",
   "source": [
    "Load data from the data set into test, training and validation sets"
   ],
   "metadata": {
    "collapsed": false,
    "pycharm": {
     "name": "#%% md\n"
    }
   }
  },
  {
   "cell_type": "code",
   "execution_count": 1,
   "outputs": [
    {
     "name": "stdout",
     "output_type": "stream",
     "text": [
      "Dataset information: \n",
      "Training data: (16000, 2)\n",
      "Validation data: (2000, 2)\n",
      "Test data: (2000, 2)\n"
     ]
    }
   ],
   "source": [
    "import pandas as pd\n",
    "import numpy as np\n",
    "import torch\n",
    "from datetime import datetime\n",
    "\n",
    "test = pd.read_csv(\"datasets/test.csv\")\n",
    "training = pd.read_csv(\"datasets/training.csv\")\n",
    "validation = pd.read_csv(\"datasets/validation.csv\")\n",
    "\n",
    "print(\"Dataset information: \")\n",
    "print(f'Training data: {training.shape}')\n",
    "print(f'Validation data: {validation.shape}')\n",
    "print(f'Test data: {test.shape}')"
   ],
   "metadata": {
    "collapsed": false,
    "ExecuteTime": {
     "end_time": "2023-06-02T12:33:10.003647200Z",
     "start_time": "2023-06-02T12:33:05.181134300Z"
    }
   }
  },
  {
   "cell_type": "markdown",
   "source": [
    "Load tokenizer, model and create functions needed to process text"
   ],
   "metadata": {
    "collapsed": false
   }
  },
  {
   "cell_type": "code",
   "execution_count": 27,
   "outputs": [
    {
     "name": "stderr",
     "output_type": "stream",
     "text": [
      "Some weights of the model checkpoint at distilbert-base-uncased were not used when initializing DistilBertModel: ['vocab_projector.bias', 'vocab_transform.bias', 'vocab_layer_norm.bias', 'vocab_layer_norm.weight', 'vocab_transform.weight', 'vocab_projector.weight']\n",
      "- This IS expected if you are initializing DistilBertModel from the checkpoint of a model trained on another task or with another architecture (e.g. initializing a BertForSequenceClassification model from a BertForPreTraining model).\n",
      "- This IS NOT expected if you are initializing DistilBertModel from the checkpoint of a model that you expect to be exactly identical (initializing a BertForSequenceClassification model from a BertForSequenceClassification model).\n"
     ]
    }
   ],
   "source": [
    "import nltk as nltk\n",
    "import string\n",
    "from nltk.corpus import stopwords\n",
    "import re\n",
    "from transformers import DistilBertTokenizer, DistilBertModel\n",
    "\n",
    "tokenizer = DistilBertTokenizer.from_pretrained('distilbert-base-uncased')\n",
    "# Load BERT model\n",
    "model = DistilBertModel.from_pretrained('distilbert-base-uncased')\n",
    "\n",
    "\n",
    "def preprocess_text(text):\n",
    "    # remove links\n",
    "    text = re.sub(r\"http\\S+|www\\S+|https\\S+\", \"\", text)\n",
    "    # remove html tags\n",
    "    text = re.sub(r'<.*?>','',text)\n",
    "    # remove special characters\n",
    "    text = text.translate(str.maketrans('', '', string.punctuation))\n",
    "    #tokenize text\n",
    "    tokens = tokenizer.tokenize(text)\n",
    "    # apply lemmatization and stemming\n",
    "    lemmatizer = nltk.stem.WordNetLemmatizer()\n",
    "    tokens = [lemmatizer.lemmatize(word) for word in tokens]\n",
    "    stemmer = nltk.stem.PorterStemmer()\n",
    "    tokens = [stemmer.stem(word) for word in tokens]\n",
    "\n",
    "    encoded_input = tokenizer.encode_plus(\n",
    "        tokens,\n",
    "        add_special_tokens=True,\n",
    "        max_length=512,\n",
    "        padding='max_length',\n",
    "        truncation=True,\n",
    "        return_tensors='pt'\n",
    "    )\n",
    "\n",
    "    return encoded_input['input_ids'], encoded_input['attention_mask']\n",
    "\n",
    "def extract_features(inputs, masks):\n",
    "    print('Extract features' + ' - ' + str(datetime.now()))\n",
    "    with torch.no_grad():\n",
    "        outputs = model(inputs, attention_mask=masks)\n",
    "        pooled_output = outputs[0][:, 0, :]\n",
    "    print('Finish extract features' + ' - ' + str(datetime.now()))\n",
    "    return pooled_output.numpy()"
   ],
   "metadata": {
    "collapsed": false,
    "pycharm": {
     "name": "#%%\n"
    },
    "ExecuteTime": {
     "end_time": "2023-06-02T15:33:33.637153200Z",
     "start_time": "2023-06-02T15:33:30.913637Z"
    }
   }
  },
  {
   "cell_type": "markdown",
   "source": [
    "Perform batch training for the SVM model with the processed data"
   ],
   "metadata": {
    "collapsed": false,
    "pycharm": {
     "name": "#%% md\n"
    }
   }
  },
  {
   "cell_type": "code",
   "execution_count": 28,
   "outputs": [
    {
     "name": "stdout",
     "output_type": "stream",
     "text": [
      "Begin preprocess batch 0 - 2023-06-02 18:34:59.817245\n",
      "Extract features - 2023-06-02 18:35:00.746243\n",
      "Finish extract features - 2023-06-02 18:39:12.728822\n",
      "Finish preprocess batch 0 - 2023-06-02 18:39:12.728822\n",
      "Begin preprocess batch 1 - 2023-06-02 18:39:12.728822\n",
      "Extract features - 2023-06-02 18:39:13.451832\n",
      "Finish extract features - 2023-06-02 18:43:32.183209\n",
      "Finish preprocess batch 1 - 2023-06-02 18:43:32.183209\n",
      "Begin preprocess batch 2 - 2023-06-02 18:43:32.183209\n",
      "Extract features - 2023-06-02 18:43:32.856203\n",
      "Finish extract features - 2023-06-02 18:47:44.576725\n",
      "Finish preprocess batch 2 - 2023-06-02 18:47:44.576725\n",
      "Begin preprocess batch 3 - 2023-06-02 18:47:44.576725\n",
      "Extract features - 2023-06-02 18:47:45.260758\n",
      "Finish extract features - 2023-06-02 18:51:57.187508\n",
      "Finish preprocess batch 3 - 2023-06-02 18:51:57.187508\n",
      "Begin preprocess batch 4 - 2023-06-02 18:51:57.187508\n",
      "Extract features - 2023-06-02 18:51:57.860511\n",
      "Finish extract features - 2023-06-02 18:56:30.264751\n",
      "Finish preprocess batch 4 - 2023-06-02 18:56:30.265750\n",
      "Begin preprocess batch 5 - 2023-06-02 18:56:30.265750\n",
      "Extract features - 2023-06-02 18:56:31.008751\n",
      "Finish extract features - 2023-06-02 19:01:39.800643\n",
      "Finish preprocess batch 5 - 2023-06-02 19:01:39.801642\n",
      "Begin preprocess batch 6 - 2023-06-02 19:01:39.801642\n",
      "Extract features - 2023-06-02 19:01:40.698644\n",
      "Finish extract features - 2023-06-02 19:06:07.868190\n",
      "Finish preprocess batch 6 - 2023-06-02 19:06:07.868190\n",
      "Begin preprocess batch 7 - 2023-06-02 19:06:07.868190\n",
      "Extract features - 2023-06-02 19:06:08.601230\n",
      "Finish extract features - 2023-06-02 19:10:38.777711\n",
      "Finish preprocess batch 7 - 2023-06-02 19:10:38.777711\n",
      "Begin preprocess batch 8 - 2023-06-02 19:10:38.777711\n",
      "Extract features - 2023-06-02 19:10:39.496749\n",
      "Finish extract features - 2023-06-02 19:15:07.026667\n",
      "Finish preprocess batch 8 - 2023-06-02 19:15:07.027668\n",
      "Begin preprocess batch 9 - 2023-06-02 19:15:07.027668\n",
      "Extract features - 2023-06-02 19:15:07.725703\n",
      "Finish extract features - 2023-06-02 19:19:42.753772\n",
      "Finish preprocess batch 9 - 2023-06-02 19:19:42.754772\n",
      "Begin preprocess batch 10 - 2023-06-02 19:19:42.754772\n",
      "Extract features - 2023-06-02 19:19:43.528776\n",
      "Finish extract features - 2023-06-02 19:24:28.081930\n",
      "Finish preprocess batch 10 - 2023-06-02 19:24:28.082937\n",
      "Begin preprocess batch 11 - 2023-06-02 19:24:28.082937\n",
      "Extract features - 2023-06-02 19:24:29.554929\n",
      "Finish extract features - 2023-06-02 19:29:11.675104\n",
      "Finish preprocess batch 11 - 2023-06-02 19:29:11.676108\n",
      "Begin preprocess batch 12 - 2023-06-02 19:29:11.676108\n",
      "Extract features - 2023-06-02 19:29:12.397104\n",
      "Finish extract features - 2023-06-02 19:33:47.265671\n",
      "Finish preprocess batch 12 - 2023-06-02 19:33:47.266671\n",
      "Begin preprocess batch 13 - 2023-06-02 19:33:47.266671\n",
      "Extract features - 2023-06-02 19:33:47.990673\n",
      "Finish extract features - 2023-06-02 19:38:21.871782\n",
      "Finish preprocess batch 13 - 2023-06-02 19:38:21.872782\n",
      "Begin preprocess batch 14 - 2023-06-02 19:38:21.872782\n",
      "Extract features - 2023-06-02 19:38:22.598780\n",
      "Finish extract features - 2023-06-02 19:43:21.490737\n",
      "Finish preprocess batch 14 - 2023-06-02 19:43:21.490737\n",
      "Begin preprocess batch 15 - 2023-06-02 19:43:21.490737\n",
      "Extract features - 2023-06-02 19:43:22.233735\n",
      "Finish extract features - 2023-06-02 19:48:33.593886\n",
      "Finish preprocess batch 15 - 2023-06-02 19:48:33.593886\n",
      "Begin preprocess batch 16 - 2023-06-02 19:48:33.593886\n",
      "Extract features - 2023-06-02 19:48:34.316887\n",
      "Finish extract features - 2023-06-02 19:53:08.953235\n",
      "Finish preprocess batch 16 - 2023-06-02 19:53:08.954235\n",
      "Begin preprocess batch 17 - 2023-06-02 19:53:08.954235\n",
      "Extract features - 2023-06-02 19:53:09.696237\n",
      "Finish extract features - 2023-06-02 19:57:49.120215\n",
      "Finish preprocess batch 17 - 2023-06-02 19:57:49.124214\n",
      "Begin preprocess batch 18 - 2023-06-02 19:57:49.124214\n",
      "Extract features - 2023-06-02 19:57:49.831207\n",
      "Finish extract features - 2023-06-02 20:02:22.804062\n",
      "Finish preprocess batch 18 - 2023-06-02 20:02:22.806063\n",
      "Begin preprocess batch 19 - 2023-06-02 20:02:22.806063\n",
      "Extract features - 2023-06-02 20:02:23.526067\n",
      "Finish extract features - 2023-06-02 20:06:57.295447\n",
      "Finish preprocess batch 19 - 2023-06-02 20:06:57.295447\n",
      "Begin preprocess batch 20 - 2023-06-02 20:06:57.295447\n",
      "Extract features - 2023-06-02 20:06:58.000450\n",
      "Finish extract features - 2023-06-02 20:11:33.673590\n",
      "Finish preprocess batch 20 - 2023-06-02 20:11:33.674586\n",
      "Begin preprocess batch 21 - 2023-06-02 20:11:33.674586\n",
      "Extract features - 2023-06-02 20:11:34.350584\n",
      "Finish extract features - 2023-06-02 20:16:07.819748\n",
      "Finish preprocess batch 21 - 2023-06-02 20:16:07.819748\n",
      "Begin preprocess batch 22 - 2023-06-02 20:16:07.819748\n",
      "Extract features - 2023-06-02 20:16:08.501748\n",
      "Finish extract features - 2023-06-02 20:20:40.701371\n",
      "Finish preprocess batch 22 - 2023-06-02 20:20:40.702371\n",
      "Begin preprocess batch 23 - 2023-06-02 20:20:40.702371\n",
      "Extract features - 2023-06-02 20:20:41.441410\n",
      "Finish extract features - 2023-06-02 20:25:13.595014\n",
      "Finish preprocess batch 23 - 2023-06-02 20:25:13.595014\n",
      "Begin preprocess batch 24 - 2023-06-02 20:25:13.595014\n",
      "Extract features - 2023-06-02 20:25:14.248013\n",
      "Finish extract features - 2023-06-02 20:29:48.052700\n",
      "Finish preprocess batch 24 - 2023-06-02 20:29:48.055700\n",
      "Begin preprocess batch 25 - 2023-06-02 20:29:48.055700\n",
      "Extract features - 2023-06-02 20:29:48.757749\n",
      "Finish extract features - 2023-06-02 20:34:20.308639\n",
      "Finish preprocess batch 25 - 2023-06-02 20:34:20.308639\n",
      "Begin preprocess batch 26 - 2023-06-02 20:34:20.308639\n",
      "Extract features - 2023-06-02 20:34:21.027678\n",
      "Finish extract features - 2023-06-02 20:38:53.517678\n",
      "Finish preprocess batch 26 - 2023-06-02 20:38:53.518680\n",
      "Begin preprocess batch 27 - 2023-06-02 20:38:53.518680\n",
      "Extract features - 2023-06-02 20:38:54.226681\n",
      "Finish extract features - 2023-06-02 20:43:25.099315\n",
      "Finish preprocess batch 27 - 2023-06-02 20:43:25.099315\n",
      "Begin preprocess batch 28 - 2023-06-02 20:43:25.099315\n",
      "Extract features - 2023-06-02 20:43:25.798299\n",
      "Finish extract features - 2023-06-02 20:47:59.997092\n",
      "Finish preprocess batch 28 - 2023-06-02 20:48:00.000095\n",
      "Begin preprocess batch 29 - 2023-06-02 20:48:00.000095\n",
      "Extract features - 2023-06-02 20:48:00.665052\n",
      "Finish extract features - 2023-06-02 20:52:35.327692\n",
      "Finish preprocess batch 29 - 2023-06-02 20:52:35.328692\n",
      "Begin preprocess batch 30 - 2023-06-02 20:52:35.328692\n",
      "Extract features - 2023-06-02 20:52:36.044732\n",
      "Finish extract features - 2023-06-02 20:57:08.411370\n",
      "Finish preprocess batch 30 - 2023-06-02 20:57:08.412372\n",
      "Begin preprocess batch 31 - 2023-06-02 20:57:08.412372\n",
      "Extract features - 2023-06-02 20:57:09.108337\n",
      "Finish extract features - 2023-06-02 21:01:47.960923\n",
      "Finish preprocess batch 31 - 2023-06-02 21:01:47.961923\n"
     ]
    }
   ],
   "source": [
    "# Preprocess training dataset\n",
    "batch_size = 500\n",
    "num_batches = len(training) // batch_size\n",
    "training_features = []\n",
    "for i in range(num_batches):\n",
    "    print('Begin preprocess batch ' + str(i) + ' - ' + str(datetime.now()))\n",
    "    # Get the current batch\n",
    "    batch_data = training[i * batch_size : (i + 1) * batch_size]['text']\n",
    "    batch_labels = training[i * batch_size : (i + 1) * batch_size]['label']\n",
    "\n",
    "    # Preprocess the input text using BERT for the current batch\n",
    "    batch_inputs = []\n",
    "    batch_masks = []\n",
    "    for text in batch_data:\n",
    "        input_ids, attention_mask = preprocess_text(text)\n",
    "        batch_inputs.append(input_ids)\n",
    "        batch_masks.append(attention_mask)\n",
    "\n",
    "    batch_inputs = torch.cat(batch_inputs, dim=0)\n",
    "    batch_masks = torch.cat(batch_masks, dim=0)\n",
    "\n",
    "    pooled_output = extract_features(batch_inputs, batch_masks)\n",
    "    training_features.append(pooled_output)\n",
    "    print('Finish preprocess batch ' + str(i) + ' - ' + str(datetime.now()))\n",
    "# obtain final features and labels\n",
    "training_features = np.concatenate(training_features, axis=0)\n",
    "training_labels = training['label'].values[:training_features.shape[0]]\n",
    "\n",
    "# save the features and labels\n",
    "np.save('models/training_features-1.npy', training_features)\n",
    "np.save('models/training_labels-1.npy', training_labels)"
   ],
   "metadata": {
    "collapsed": false,
    "ExecuteTime": {
     "end_time": "2023-06-02T18:01:56.736168100Z",
     "start_time": "2023-06-02T15:34:59.815244500Z"
    }
   }
  },
  {
   "cell_type": "markdown",
   "source": [
    " 2Choose a suitable subset of the training data to find the best parameters for the SVM model"
   ],
   "metadata": {
    "collapsed": false,
    "pycharm": {
     "name": "#%% md\n"
    }
   }
  },
  {
   "cell_type": "code",
   "execution_count": 30,
   "outputs": [
    {
     "name": "stdout",
     "output_type": "stream",
     "text": [
      "Class distribution of the entire training set:  [4666 5362 1304 2159 1937  572]\n",
      "Class distribution of the subset:  [452 535 135 209 211  58]\n"
     ]
    },
    {
     "data": {
      "text/plain": "<Figure size 640x480 with 1 Axes>",
      "image/png": "[encoded data removed]"
     },
     "metadata": {},
     "output_type": "display_data"
    }
   ],
   "source": [
    "from sklearn.svm import SVC\n",
    "\n",
    "# load the training features and labels\n",
    "training_features = np.load('models/training_features-1.npy')\n",
    "training_labels = np.load('models/training_labels-1.npy')\n",
    "\n",
    "subset_size = 0.1\n",
    "# split the training data into a subset and the remaining data\n",
    "subset_indices = np.random.choice(len(training_features), int(subset_size * len(training_features)), replace=False)\n",
    "subset_features = training_features[subset_indices]\n",
    "\n",
    "# compute the class distribution of the subset\n",
    "subset_labels = training_labels[subset_indices]\n",
    "subset_class_distribution = np.bincount(subset_labels)\n",
    "\n",
    "# compute the class distribution of the entire training set\n",
    "training_class_distribution = np.bincount(training_labels)\n",
    "\n",
    "# compare the class distributions\n",
    "print('Class distribution of the entire training set: ', training_class_distribution)\n",
    "print('Class distribution of the subset: ', subset_class_distribution)\n",
    "\n",
    "# visualize plots of the class distributions\n",
    "import matplotlib.pyplot as plt\n",
    "plt.bar(np.arange(len(training_class_distribution)), training_class_distribution, label='Training set')\n",
    "plt.bar(np.arange(len(subset_class_distribution)), subset_class_distribution, label='Subset')\n",
    "plt.legend()\n",
    "plt.show()\n"
   ],
   "metadata": {
    "collapsed": false,
    "ExecuteTime": {
     "end_time": "2023-06-02T18:02:23.602113700Z",
     "start_time": "2023-06-02T18:02:23.355286600Z"
    }
   }
  },
  {
   "cell_type": "markdown",
   "source": [
    "Perform grid search to find the best parameters for the SVM model"
   ],
   "metadata": {
    "collapsed": false
   }
  },
  {
   "cell_type": "code",
   "execution_count": 31,
   "outputs": [
    {
     "name": "stdout",
     "output_type": "stream",
     "text": [
      "Begin grid search - 2023-06-02 21:02:37.404688\n",
      "Training final SVM model - 2023-06-02 21:02:37.412726\n",
      "Finished training final SVM model - 2023-06-02 21:05:16.381202\n",
      "Best hyperparameters:  {'C': 10, 'gamma': 'scale', 'kernel': 'poly'}\n"
     ]
    }
   ],
   "source": [
    "# SVM classification\n",
    "svm_classifier = SVC(kernel='linear')\n",
    "parameters = {\n",
    "    'C': [0.1, 1, 10],\n",
    "    'gamma': [1, 0.1, 'scale', 'auto'],\n",
    "    'kernel': ['linear', 'rbf', 'poly']\n",
    "}\n",
    "# Construct the final SVM\n",
    "final_svm_classifier = SVC()\n",
    "# Perform grid search to find the best parameters\n",
    "from sklearn.model_selection import GridSearchCV\n",
    "print('Begin grid search' + ' - ' + str(datetime.now()))\n",
    "grid_search = GridSearchCV(final_svm_classifier, parameters, cv=5)\n",
    "print('Training final SVM model' + ' - ' + str(datetime.now()))\n",
    "grid_search.fit(subset_features, subset_labels)\n",
    "print('Finished training final SVM model' + ' - ' + str(datetime.now()))\n",
    "print('Best hyperparameters: ', grid_search.best_params_)\n"
   ],
   "metadata": {
    "collapsed": false,
    "ExecuteTime": {
     "end_time": "2023-06-02T18:05:16.388030100Z",
     "start_time": "2023-06-02T18:02:37.406726300Z"
    }
   }
  },
  {
   "cell_type": "markdown",
   "source": [
    "Train the final SVM model with the best parameters"
   ],
   "metadata": {
    "collapsed": false
   }
  },
  {
   "cell_type": "code",
   "execution_count": 32,
   "outputs": [
    {
     "name": "stdout",
     "output_type": "stream",
     "text": [
      "Begin training final SVM model - 2023-06-02 21:05:33.740427\n",
      "Finished training final SVM model - 2023-06-02 21:08:00.306873\n"
     ]
    }
   ],
   "source": [
    "import joblib\n",
    "# Use the best model for prediction\n",
    "final_svm_classifier = grid_search.best_estimator_\n",
    "# use the already existing model\n",
    "#final_svm_classifier = joblib.load('models/model-1.pkl')\n",
    "print('Begin training final SVM model' + ' - ' + str(datetime.now()))\n",
    "final_svm_classifier.fit(training_features, training_labels)\n",
    "print('Finished training final SVM model' + ' - ' + str(datetime.now()))"
   ],
   "metadata": {
    "collapsed": false,
    "ExecuteTime": {
     "end_time": "2023-06-02T18:08:00.313052Z",
     "start_time": "2023-06-02T18:05:33.742433800Z"
    }
   }
  },
  {
   "cell_type": "markdown",
   "source": [
    "Save the generated model for later use"
   ],
   "metadata": {
    "collapsed": false,
    "pycharm": {
     "name": "#%% md\n"
    }
   }
  },
  {
   "cell_type": "code",
   "execution_count": 33,
   "outputs": [
    {
     "data": {
      "text/plain": "['models/model-2.pkl']"
     },
     "execution_count": 33,
     "metadata": {},
     "output_type": "execute_result"
    }
   ],
   "source": [
    "# Save generated SVM model\n",
    "import joblib\n",
    "joblib.dump(final_svm_classifier, 'models/model-2.pkl')"
   ],
   "metadata": {
    "collapsed": false,
    "pycharm": {
     "name": "#%%\n"
    },
    "ExecuteTime": {
     "end_time": "2023-06-02T18:08:19.647662800Z",
     "start_time": "2023-06-02T18:08:19.551176Z"
    }
   }
  },
  {
   "cell_type": "markdown",
   "source": [
    "Process test data"
   ],
   "metadata": {
    "collapsed": false,
    "pycharm": {
     "name": "#%% md\n"
    }
   }
  },
  {
   "cell_type": "code",
   "execution_count": 34,
   "outputs": [
    {
     "name": "stdout",
     "output_type": "stream",
     "text": [
      "Begin processing for test batch 0 - 2023-06-02 21:08:24.724225\n",
      "0\n",
      "Extract features - 2023-06-02 21:08:25.043195\n",
      "Finish extract features - 2023-06-02 21:10:14.761776\n",
      "End processing for test batch 0 - 2023-06-02 21:10:14.851741\n",
      "Begin processing for test batch 1 - 2023-06-02 21:10:14.851741\n",
      "1\n",
      "Extract features - 2023-06-02 21:10:15.110743\n",
      "Finish extract features - 2023-06-02 21:11:59.909257\n",
      "End processing for test batch 1 - 2023-06-02 21:11:59.910259\n",
      "Begin processing for test batch 2 - 2023-06-02 21:11:59.910259\n",
      "2\n",
      "Extract features - 2023-06-02 21:12:00.230261\n",
      "Finish extract features - 2023-06-02 21:13:45.186820\n",
      "End processing for test batch 2 - 2023-06-02 21:13:45.186820\n",
      "Begin processing for test batch 3 - 2023-06-02 21:13:45.186820\n",
      "3\n",
      "Extract features - 2023-06-02 21:13:45.467820\n",
      "Finish extract features - 2023-06-02 21:15:31.300820\n",
      "End processing for test batch 3 - 2023-06-02 21:15:31.301820\n",
      "Begin processing for test batch 4 - 2023-06-02 21:15:31.301820\n",
      "4\n",
      "Extract features - 2023-06-02 21:15:31.584819\n",
      "Finish extract features - 2023-06-02 21:17:25.054236\n",
      "End processing for test batch 4 - 2023-06-02 21:17:25.055237\n",
      "Begin processing for test batch 5 - 2023-06-02 21:17:25.055237\n",
      "5\n",
      "Extract features - 2023-06-02 21:17:25.340874\n",
      "Finish extract features - 2023-06-02 21:19:13.731372\n",
      "End processing for test batch 5 - 2023-06-02 21:19:13.732354\n",
      "Begin processing for test batch 6 - 2023-06-02 21:19:13.732354\n",
      "6\n",
      "Extract features - 2023-06-02 21:19:14.013380\n",
      "Finish extract features - 2023-06-02 21:21:02.000474\n",
      "End processing for test batch 6 - 2023-06-02 21:21:02.000474\n",
      "Begin processing for test batch 7 - 2023-06-02 21:21:02.000474\n",
      "7\n",
      "Extract features - 2023-06-02 21:21:02.277510\n",
      "Finish extract features - 2023-06-02 21:22:50.856638\n",
      "End processing for test batch 7 - 2023-06-02 21:22:50.856638\n",
      "Begin processing for test batch 8 - 2023-06-02 21:22:50.856638\n",
      "8\n",
      "Extract features - 2023-06-02 21:22:51.151637\n",
      "Finish extract features - 2023-06-02 21:24:41.130198\n",
      "End processing for test batch 8 - 2023-06-02 21:24:41.131199\n",
      "Begin processing for test batch 9 - 2023-06-02 21:24:41.131199\n",
      "9\n",
      "Extract features - 2023-06-02 21:24:41.406239\n",
      "Finish extract features - 2023-06-02 21:26:46.677684\n",
      "End processing for test batch 9 - 2023-06-02 21:26:46.677684\n"
     ]
    }
   ],
   "source": [
    "test_labels = []\n",
    "test_features = []\n",
    "# Extract features for test dataset\n",
    "test_batch_size = 200\n",
    "num_batches = len(test) // test_batch_size\n",
    "\n",
    "for i in range(num_batches):\n",
    "    print('Begin processing for test batch ' + str(i) + ' - ' + str(datetime.now()))\n",
    "    test_batch_data = test[i * test_batch_size : (i + 1) * test_batch_size]['text']\n",
    "    test_batch_labels = test[i * test_batch_size : (i + 1) * test_batch_size]['label']\n",
    "    test_labels.extend(test_batch_labels)\n",
    "    test_batch_inputs = []\n",
    "    test_batch_masks = []\n",
    "    for text in test_batch_data:\n",
    "        input_ids, attention_mask = preprocess_text(text)\n",
    "        test_batch_inputs.append(input_ids)\n",
    "        test_batch_masks.append(attention_mask)\n",
    "    test_batch_inputs = torch.cat(test_batch_inputs, dim=0)\n",
    "    test_batch_masks = torch.cat(test_batch_masks, dim=0)\n",
    "    print(i)\n",
    "    pooled_output = extract_features(test_batch_inputs, test_batch_masks)\n",
    "    test_features.append(pooled_output)\n",
    "    print('End processing for test batch ' + str(i) + ' - ' + str(datetime.now()))\n",
    "\n",
    "test_labels = torch.tensor(test_labels)\n",
    "all_test_features = np.concatenate(test_features, axis=0)"
   ],
   "metadata": {
    "collapsed": false,
    "pycharm": {
     "name": "#%%\n"
    },
    "ExecuteTime": {
     "end_time": "2023-06-02T18:26:46.690279500Z",
     "start_time": "2023-06-02T18:08:24.604201Z"
    }
   }
  },
  {
   "cell_type": "code",
   "execution_count": 35,
   "outputs": [],
   "source": [
    "# save the extracted test features and test labels for later use\n",
    "np.save('models/test_features.npy', all_test_features)\n",
    "np.save('models/test_labels.npy', test_labels)"
   ],
   "metadata": {
    "collapsed": false,
    "ExecuteTime": {
     "end_time": "2023-06-02T18:26:54.933555Z",
     "start_time": "2023-06-02T18:26:54.900500700Z"
    }
   }
  },
  {
   "cell_type": "markdown",
   "source": [
    "Predict for the test set"
   ],
   "metadata": {
    "collapsed": false,
    "pycharm": {
     "name": "#%% md\n"
    }
   }
  },
  {
   "cell_type": "code",
   "execution_count": 38,
   "outputs": [
    {
     "name": "stdout",
     "output_type": "stream",
     "text": [
      "Begin prediction - 2023-06-02 21:31:32.934216\n",
      "Finish prediction - 2023-06-02 21:31:45.116745\n",
      "              precision    recall  f1-score   support\n",
      "\n",
      "           0       0.40      0.79      0.53       581\n",
      "           1       0.59      0.62      0.60       695\n",
      "           2       0.43      0.06      0.10       159\n",
      "           3       0.47      0.09      0.15       275\n",
      "           4       0.44      0.07      0.12       224\n",
      "           5       0.29      0.03      0.05        66\n",
      "\n",
      "    accuracy                           0.47      2000\n",
      "   macro avg       0.44      0.28      0.26      2000\n",
      "weighted avg       0.48      0.47      0.41      2000\n",
      "\n"
     ]
    }
   ],
   "source": [
    "from sklearn.metrics import classification_report\n",
    "# load the test features and labels\n",
    "all_test_features = np.load('models/test_features.npy')\n",
    "test_labels = np.load('models/test_labels.npy')\n",
    "print('Begin prediction' + ' - ' + str(datetime.now()))\n",
    "loaded_svm_classifier = joblib.load('models/model-1.pkl')\n",
    "predictions = loaded_svm_classifier.predict(all_test_features)\n",
    "print('Finish prediction' + ' - ' + str(datetime.now()))\n",
    "report = classification_report(test_labels, predictions)\n",
    "print(report)"
   ],
   "metadata": {
    "collapsed": false,
    "pycharm": {
     "name": "#%%\n"
    },
    "ExecuteTime": {
     "end_time": "2023-06-02T18:31:45.132978900Z",
     "start_time": "2023-06-02T18:31:32.930216Z"
    }
   }
  },
  {
   "cell_type": "code",
   "execution_count": 18,
   "outputs": [
    {
     "name": "stdout",
     "output_type": "stream",
     "text": [
      "Extract features - 2023-06-02 18:06:37.756715\n",
      "Finish extract features - 2023-06-02 18:06:38.877713\n",
      "Prediction:  [1]\n"
     ]
    }
   ],
   "source": [
    "test_case1 = 'im feeling angry at someone i do something thoughtful for her and my feelings toward her soften'\n",
    "loaded_svm_classifier = joblib.load('models/model-1.pkl')\n",
    "input_ids, attention_mask = preprocess_text(test_case1)\n",
    "test_features = extract_features(input_ids, attention_mask)\n",
    "prediction = loaded_svm_classifier.predict(test_features)\n",
    "print(\"Prediction: \", prediction)"
   ],
   "metadata": {
    "collapsed": false,
    "pycharm": {
     "name": "#%%\n"
    },
    "ExecuteTime": {
     "end_time": "2023-06-02T15:06:38.894243200Z",
     "start_time": "2023-06-02T15:06:37.694713500Z"
    }
   }
  },
  {
   "cell_type": "code",
   "execution_count": null,
   "outputs": [],
   "source": [],
   "metadata": {
    "collapsed": false
   }
  }
 ],
 "metadata": {
  "kernelspec": {
   "display_name": "Python 3",
   "language": "python",
   "name": "python3"
  },
  "language_info": {
   "codemirror_mode": {
    "name": "ipython",
    "version": 2
   },
   "file_extension": ".py",
   "mimetype": "text/x-python",
   "name": "python",
   "nbconvert_exporter": "python",
   "pygments_lexer": "ipython2",
   "version": "2.7.6"
  }
 },
 "nbformat": 4,
 "nbformat_minor": 0
}
